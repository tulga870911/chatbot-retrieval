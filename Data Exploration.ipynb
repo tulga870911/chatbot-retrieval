{
 "cells": [
  {
   "cell_type": "code",
   "execution_count": 47,
   "metadata": {
    "collapsed": true
   },
   "outputs": [],
   "source": [
    "%matplotlib inline\n",
    "\n",
    "import pandas as pd\n",
    "import matplotlib.pyplot as plt\n",
    "import matplotlib\n",
    "matplotlib.style.use('ggplot')"
   ]
  },
  {
   "cell_type": "code",
   "execution_count": 48,
   "metadata": {
    "collapsed": true
   },
   "outputs": [],
   "source": [
    "# Load Data\n",
    "train_df = pd.read_csv(\"./data/train.csv\")\n",
    "train_df.Label = train_df.Label.astype('category')\n",
    "\n",
    "test_df = pd.read_csv(\"./data/test.csv\")\n",
    "validation_df = pd.read_csv(\"./data/valid.csv\")"
   ]
  },
  {
   "cell_type": "code",
   "execution_count": 49,
   "metadata": {
    "collapsed": false
   },
   "outputs": [
    {
     "data": {
      "text/html": [
       "<div>\n",
       "<table border=\"1\" class=\"dataframe\">\n",
       "  <thead>\n",
       "    <tr style=\"text-align: right;\">\n",
       "      <th></th>\n",
       "      <th>Context</th>\n",
       "      <th>Utterance</th>\n",
       "      <th>Label</th>\n",
       "    </tr>\n",
       "  </thead>\n",
       "  <tbody>\n",
       "    <tr>\n",
       "      <th>count</th>\n",
       "      <td>1000000</td>\n",
       "      <td>1000000</td>\n",
       "      <td>1000000</td>\n",
       "    </tr>\n",
       "    <tr>\n",
       "      <th>unique</th>\n",
       "      <td>957097</td>\n",
       "      <td>736145</td>\n",
       "      <td>2</td>\n",
       "    </tr>\n",
       "    <tr>\n",
       "      <th>top</th>\n",
       "      <td>! op __eou__ __eot__ ? __eou__ __eot__</td>\n",
       "      <td>thank __eou__</td>\n",
       "      <td>0</td>\n",
       "    </tr>\n",
       "    <tr>\n",
       "      <th>freq</th>\n",
       "      <td>15</td>\n",
       "      <td>12426</td>\n",
       "      <td>500127</td>\n",
       "    </tr>\n",
       "  </tbody>\n",
       "</table>\n",
       "</div>"
      ],
      "text/plain": [
       "                                       Context      Utterance    Label\n",
       "count                                  1000000        1000000  1000000\n",
       "unique                                  957097         736145        2\n",
       "top     ! op __eou__ __eot__ ? __eou__ __eot__  thank __eou__        0\n",
       "freq                                        15          12426   500127"
      ]
     },
     "execution_count": 49,
     "metadata": {},
     "output_type": "execute_result"
    }
   ],
   "source": [
    "train_df.describe()"
   ]
  },
  {
   "cell_type": "code",
   "execution_count": 50,
   "metadata": {
    "collapsed": false
   },
   "outputs": [
    {
     "data": {
      "text/plain": [
       "<matplotlib.text.Text at 0x121d16400>"
      ]
     },
     "execution_count": 50,
     "metadata": {},
     "output_type": "execute_result"
    },
    {
     "data": {
      "image/png": "[encoded data removed]",
      "text/plain": [
       "<matplotlib.figure.Figure at 0x121d3a438>"
      ]
     },
     "metadata": {},
     "output_type": "display_data"
    }
   ],
   "source": [
    "train_df.Label.hist()\n",
    "plt.title(\"Training Label Distribution\")"
   ]
  },
  {
   "cell_type": "code",
   "execution_count": 51,
   "metadata": {
    "collapsed": false
   },
   "outputs": [
    {
     "data": {
      "text/html": [
       "<div>\n",
       "<table border=\"1\" class=\"dataframe\">\n",
       "  <thead>\n",
       "    <tr style=\"text-align: right;\">\n",
       "      <th></th>\n",
       "      <th>Context</th>\n",
       "      <th>Utterance</th>\n",
       "      <th>Label</th>\n",
       "    </tr>\n",
       "  </thead>\n",
       "  <tbody>\n",
       "    <tr>\n",
       "      <th>0</th>\n",
       "      <td>i think we could import the old comment via rs...</td>\n",
       "      <td>basic each xfree86 upload will not forc user t...</td>\n",
       "      <td>1</td>\n",
       "    </tr>\n",
       "    <tr>\n",
       "      <th>1</th>\n",
       "      <td>i 'm not suggest all - onli the one you modifi...</td>\n",
       "      <td>sorri __eou__ i think it be ubuntu relat . __e...</td>\n",
       "      <td>0</td>\n",
       "    </tr>\n",
       "    <tr>\n",
       "      <th>2</th>\n",
       "      <td>afternoon all __eou__ not entir relat to warti...</td>\n",
       "      <td>yep . __eou__ oh , okay . i wonder what happen...</td>\n",
       "      <td>0</td>\n",
       "    </tr>\n",
       "    <tr>\n",
       "      <th>3</th>\n",
       "      <td>interest __eou__ grub-instal work with / be ex...</td>\n",
       "      <td>that the one __eou__</td>\n",
       "      <td>1</td>\n",
       "    </tr>\n",
       "    <tr>\n",
       "      <th>4</th>\n",
       "      <td>and becaus python give mark a woodi __eou__ __...</td>\n",
       "      <td>( i think someon be go to make a joke about .a...</td>\n",
       "      <td>1</td>\n",
       "    </tr>\n",
       "  </tbody>\n",
       "</table>\n",
       "</div>"
      ],
      "text/plain": [
       "                                             Context  \\\n",
       "0  i think we could import the old comment via rs...   \n",
       "1  i 'm not suggest all - onli the one you modifi...   \n",
       "2  afternoon all __eou__ not entir relat to warti...   \n",
       "3  interest __eou__ grub-instal work with / be ex...   \n",
       "4  and becaus python give mark a woodi __eou__ __...   \n",
       "\n",
       "                                           Utterance Label  \n",
       "0  basic each xfree86 upload will not forc user t...     1  \n",
       "1  sorri __eou__ i think it be ubuntu relat . __e...     0  \n",
       "2  yep . __eou__ oh , okay . i wonder what happen...     0  \n",
       "3                               that the one __eou__     1  \n",
       "4  ( i think someon be go to make a joke about .a...     1  "
      ]
     },
     "execution_count": 51,
     "metadata": {},
     "output_type": "execute_result"
    }
   ],
   "source": [
    "train_df.head()"
   ]
  },
  {
   "cell_type": "code",
   "execution_count": 53,
   "metadata": {
    "collapsed": false
   },
   "outputs": [
    {
     "data": {
      "text/plain": [
       "<matplotlib.text.Text at 0x113522e10>"
      ]
     },
     "execution_count": 53,
     "metadata": {},
     "output_type": "execute_result"
    },
    {
     "data": {
      "image/png": "[encoded data removed]",
      "text/plain": [
       "<matplotlib.figure.Figure at 0x118bf4c18>"
      ]
     },
     "metadata": {},
     "output_type": "display_data"
    },
    {
     "data": {
      "image/png": "[encoded data removed]",
      "text/plain": [
       "<matplotlib.figure.Figure at 0x118bf4a58>"
      ]
     },
     "metadata": {},
     "output_type": "display_data"
    }
   ],
   "source": [
    "plt.figure(1)\n",
    "train_df.Context.str.len().hist(bins=20)\n",
    "plt.title(\"Training Context Length Statistics\")\n",
    "\n",
    "plt.figure(2)\n",
    "train_df.Utterance.str.len().hist(bins=20)\n",
    "plt.title(\"Training Utterance Length Statistics\")"
   ]
  },
  {
   "cell_type": "code",
   "execution_count": 54,
   "metadata": {
    "collapsed": false
   },
   "outputs": [
    {
     "data": {
      "text/html": [
       "<div>\n",
       "<table border=\"1\" class=\"dataframe\">\n",
       "  <thead>\n",
       "    <tr style=\"text-align: right;\">\n",
       "      <th></th>\n",
       "      <th>Context</th>\n",
       "      <th>Ground Truth Utterance</th>\n",
       "      <th>Distractor_0</th>\n",
       "      <th>Distractor_1</th>\n",
       "      <th>Distractor_2</th>\n",
       "      <th>Distractor_3</th>\n",
       "      <th>Distractor_4</th>\n",
       "      <th>Distractor_5</th>\n",
       "      <th>Distractor_6</th>\n",
       "      <th>Distractor_7</th>\n",
       "      <th>Distractor_8</th>\n",
       "    </tr>\n",
       "  </thead>\n",
       "  <tbody>\n",
       "    <tr>\n",
       "      <th>0</th>\n",
       "      <td>anyon know whi my stock oneir export env var u...</td>\n",
       "      <td>nice thank ! __eou__</td>\n",
       "      <td>wrong channel for it , but check efnet.org , u...</td>\n",
       "      <td>everi time the kernel chang , you will lose vi...</td>\n",
       "      <td>ok __eou__</td>\n",
       "      <td>! nomodeset &gt; acer __eou__ i 'm assum it be a ...</td>\n",
       "      <td>http : //www.ubuntu.com/project/about-ubuntu/d...</td>\n",
       "      <td>thx __eou__ unfortun the program be n't instal...</td>\n",
       "      <td>how can i check ? by do a recoveri for test ? ...</td>\n",
       "      <td>my humbl apolog __eou__</td>\n",
       "      <td># ubuntu-offtop __eou__</td>\n",
       "    </tr>\n",
       "    <tr>\n",
       "      <th>1</th>\n",
       "      <td>i set up my hd such that i have to type a pass...</td>\n",
       "      <td>so you dont know , ok , anyon els ? __eou__ yo...</td>\n",
       "      <td>nmap be nice , but it be n't what i be look fo...</td>\n",
       "      <td>ok __eou__</td>\n",
       "      <td>cdrom work fine on window . __eou__ i dont thi...</td>\n",
       "      <td>ah yes , i have read return as rerun __eou__</td>\n",
       "      <td>hm ? __eou__</td>\n",
       "      <td>not the case , lts be everi other .04 releas ....</td>\n",
       "      <td>pretti much __eou__</td>\n",
       "      <td>i use the one i download from amd __eou__</td>\n",
       "      <td>ffmpeg be part of the packag , quixotedon , at...</td>\n",
       "    </tr>\n",
       "    <tr>\n",
       "      <th>2</th>\n",
       "      <td>im tri to use ubuntu on my macbook pro retina ...</td>\n",
       "      <td>just wonder how it run __eou__</td>\n",
       "      <td>yes , that 's what i do , export it to a `` id...</td>\n",
       "      <td>noth - i be talk about the question of myhero ...</td>\n",
       "      <td>that should fix the font be too larg __eou__</td>\n",
       "      <td>okay , so hcitool echo back hci0 &lt; mac address...</td>\n",
       "      <td>i get to the menu with option such as tri ubun...</td>\n",
       "      <td>whi do u need analyz __eou__ it be a toy __eou...</td>\n",
       "      <td>cntrl-c may stop the command but it doe n't fi...</td>\n",
       "      <td>if you re onli go to run ubuntu , just get a n...</td>\n",
       "      <td>the one which be not pick up at the moment be ...</td>\n",
       "    </tr>\n",
       "    <tr>\n",
       "      <th>3</th>\n",
       "      <td>no suggest ? __eou__ link ? __eou__ how can i ...</td>\n",
       "      <td>you cant load anyth via usb or cd when luk be ...</td>\n",
       "      <td>-p sorri ... __eou__ nmap -p22 __eou__ it doe ...</td>\n",
       "      <td>i guess so i ca n't even launch it . __eou__</td>\n",
       "      <td>note __eou__</td>\n",
       "      <td>rxvt-unicod be one __eou__</td>\n",
       "      <td>i tar all of ~ __eou__</td>\n",
       "      <td>i tar all of ~ __eou__</td>\n",
       "      <td>i do n't realli know if i can help , but i be ...</td>\n",
       "      <td>that work just fine , thank ! __eou__</td>\n",
       "      <td>thank you __eou__</td>\n",
       "    </tr>\n",
       "    <tr>\n",
       "      <th>4</th>\n",
       "      <td>i just ad a second usb printer but not sure wh...</td>\n",
       "      <td>i be set it up under the printer configur __eo...</td>\n",
       "      <td>i 'd say the most common venu would be via lau...</td>\n",
       "      <td>the old hardi man page , http : //manpages.ubu...</td>\n",
       "      <td>i ll give a tri __eou__</td>\n",
       "      <td>by the way , the url you post for davf be from...</td>\n",
       "      <td>http : //ubuntuforums.org/showthread.php ? t=1...</td>\n",
       "      <td>so i load up putti gui , then what do i do ? _...</td>\n",
       "      <td>you should read error messag , it say be you r...</td>\n",
       "      <td>wait the colleg semest to close just to make s...</td>\n",
       "      <td>i be call myself a jerk . all i know be that y...</td>\n",
       "    </tr>\n",
       "  </tbody>\n",
       "</table>\n",
       "</div>"
      ],
      "text/plain": [
       "                                             Context  \\\n",
       "0  anyon know whi my stock oneir export env var u...   \n",
       "1  i set up my hd such that i have to type a pass...   \n",
       "2  im tri to use ubuntu on my macbook pro retina ...   \n",
       "3  no suggest ? __eou__ link ? __eou__ how can i ...   \n",
       "4  i just ad a second usb printer but not sure wh...   \n",
       "\n",
       "                              Ground Truth Utterance  \\\n",
       "0                               nice thank ! __eou__   \n",
       "1  so you dont know , ok , anyon els ? __eou__ yo...   \n",
       "2                     just wonder how it run __eou__   \n",
       "3  you cant load anyth via usb or cd when luk be ...   \n",
       "4  i be set it up under the printer configur __eo...   \n",
       "\n",
       "                                        Distractor_0  \\\n",
       "0  wrong channel for it , but check efnet.org , u...   \n",
       "1  nmap be nice , but it be n't what i be look fo...   \n",
       "2  yes , that 's what i do , export it to a `` id...   \n",
       "3  -p sorri ... __eou__ nmap -p22 __eou__ it doe ...   \n",
       "4  i 'd say the most common venu would be via lau...   \n",
       "\n",
       "                                        Distractor_1  \\\n",
       "0  everi time the kernel chang , you will lose vi...   \n",
       "1                                         ok __eou__   \n",
       "2  noth - i be talk about the question of myhero ...   \n",
       "3       i guess so i ca n't even launch it . __eou__   \n",
       "4  the old hardi man page , http : //manpages.ubu...   \n",
       "\n",
       "                                        Distractor_2  \\\n",
       "0                                         ok __eou__   \n",
       "1  cdrom work fine on window . __eou__ i dont thi...   \n",
       "2       that should fix the font be too larg __eou__   \n",
       "3                                       note __eou__   \n",
       "4                            i ll give a tri __eou__   \n",
       "\n",
       "                                        Distractor_3  \\\n",
       "0  ! nomodeset > acer __eou__ i 'm assum it be a ...   \n",
       "1       ah yes , i have read return as rerun __eou__   \n",
       "2  okay , so hcitool echo back hci0 < mac address...   \n",
       "3                         rxvt-unicod be one __eou__   \n",
       "4  by the way , the url you post for davf be from...   \n",
       "\n",
       "                                        Distractor_4  \\\n",
       "0  http : //www.ubuntu.com/project/about-ubuntu/d...   \n",
       "1                                       hm ? __eou__   \n",
       "2  i get to the menu with option such as tri ubun...   \n",
       "3                             i tar all of ~ __eou__   \n",
       "4  http : //ubuntuforums.org/showthread.php ? t=1...   \n",
       "\n",
       "                                        Distractor_5  \\\n",
       "0  thx __eou__ unfortun the program be n't instal...   \n",
       "1  not the case , lts be everi other .04 releas ....   \n",
       "2  whi do u need analyz __eou__ it be a toy __eou...   \n",
       "3                             i tar all of ~ __eou__   \n",
       "4  so i load up putti gui , then what do i do ? _...   \n",
       "\n",
       "                                        Distractor_6  \\\n",
       "0  how can i check ? by do a recoveri for test ? ...   \n",
       "1                                pretti much __eou__   \n",
       "2  cntrl-c may stop the command but it doe n't fi...   \n",
       "3  i do n't realli know if i can help , but i be ...   \n",
       "4  you should read error messag , it say be you r...   \n",
       "\n",
       "                                        Distractor_7  \\\n",
       "0                            my humbl apolog __eou__   \n",
       "1          i use the one i download from amd __eou__   \n",
       "2  if you re onli go to run ubuntu , just get a n...   \n",
       "3              that work just fine , thank ! __eou__   \n",
       "4  wait the colleg semest to close just to make s...   \n",
       "\n",
       "                                        Distractor_8  \n",
       "0                            # ubuntu-offtop __eou__  \n",
       "1  ffmpeg be part of the packag , quixotedon , at...  \n",
       "2  the one which be not pick up at the moment be ...  \n",
       "3                                  thank you __eou__  \n",
       "4  i be call myself a jerk . all i know be that y...  "
      ]
     },
     "execution_count": 54,
     "metadata": {},
     "output_type": "execute_result"
    }
   ],
   "source": [
    "test_df.head()"
   ]
  },
  {
   "cell_type": "code",
   "execution_count": 55,
   "metadata": {
    "collapsed": false
   },
   "outputs": [
    {
     "data": {
      "text/html": [
       "<div>\n",
       "<table border=\"1\" class=\"dataframe\">\n",
       "  <thead>\n",
       "    <tr style=\"text-align: right;\">\n",
       "      <th></th>\n",
       "      <th>Context</th>\n",
       "      <th>Ground Truth Utterance</th>\n",
       "      <th>Distractor_0</th>\n",
       "      <th>Distractor_1</th>\n",
       "      <th>Distractor_2</th>\n",
       "      <th>Distractor_3</th>\n",
       "      <th>Distractor_4</th>\n",
       "      <th>Distractor_5</th>\n",
       "      <th>Distractor_6</th>\n",
       "      <th>Distractor_7</th>\n",
       "      <th>Distractor_8</th>\n",
       "    </tr>\n",
       "  </thead>\n",
       "  <tbody>\n",
       "    <tr>\n",
       "      <th>count</th>\n",
       "      <td>18920</td>\n",
       "      <td>18920</td>\n",
       "      <td>18920</td>\n",
       "      <td>18920</td>\n",
       "      <td>18920</td>\n",
       "      <td>18920</td>\n",
       "      <td>18920</td>\n",
       "      <td>18920</td>\n",
       "      <td>18920</td>\n",
       "      <td>18920</td>\n",
       "      <td>18920</td>\n",
       "    </tr>\n",
       "    <tr>\n",
       "      <th>unique</th>\n",
       "      <td>18920</td>\n",
       "      <td>17914</td>\n",
       "      <td>13982</td>\n",
       "      <td>13902</td>\n",
       "      <td>14077</td>\n",
       "      <td>14041</td>\n",
       "      <td>14101</td>\n",
       "      <td>14072</td>\n",
       "      <td>13969</td>\n",
       "      <td>13975</td>\n",
       "      <td>14123</td>\n",
       "    </tr>\n",
       "    <tr>\n",
       "      <th>top</th>\n",
       "      <td>anyon here . have sourc bypass googl ? __eou__...</td>\n",
       "      <td>thank __eou__</td>\n",
       "      <td>thank __eou__</td>\n",
       "      <td>thank __eou__</td>\n",
       "      <td>thank __eou__</td>\n",
       "      <td>thank __eou__</td>\n",
       "      <td>thank __eou__</td>\n",
       "      <td>thank __eou__</td>\n",
       "      <td>thank __eou__</td>\n",
       "      <td>thank __eou__</td>\n",
       "      <td>thank __eou__</td>\n",
       "    </tr>\n",
       "    <tr>\n",
       "      <th>freq</th>\n",
       "      <td>1</td>\n",
       "      <td>186</td>\n",
       "      <td>176</td>\n",
       "      <td>186</td>\n",
       "      <td>194</td>\n",
       "      <td>195</td>\n",
       "      <td>167</td>\n",
       "      <td>197</td>\n",
       "      <td>190</td>\n",
       "      <td>188</td>\n",
       "      <td>201</td>\n",
       "    </tr>\n",
       "  </tbody>\n",
       "</table>\n",
       "</div>"
      ],
      "text/plain": [
       "                                                  Context  \\\n",
       "count                                               18920   \n",
       "unique                                              18920   \n",
       "top     anyon here . have sourc bypass googl ? __eou__...   \n",
       "freq                                                    1   \n",
       "\n",
       "       Ground Truth Utterance   Distractor_0   Distractor_1   Distractor_2  \\\n",
       "count                   18920          18920          18920          18920   \n",
       "unique                  17914          13982          13902          14077   \n",
       "top             thank __eou__  thank __eou__  thank __eou__  thank __eou__   \n",
       "freq                      186            176            186            194   \n",
       "\n",
       "         Distractor_3   Distractor_4   Distractor_5   Distractor_6  \\\n",
       "count           18920          18920          18920          18920   \n",
       "unique          14041          14101          14072          13969   \n",
       "top     thank __eou__  thank __eou__  thank __eou__  thank __eou__   \n",
       "freq              195            167            197            190   \n",
       "\n",
       "         Distractor_7   Distractor_8  \n",
       "count           18920          18920  \n",
       "unique          13975          14123  \n",
       "top     thank __eou__  thank __eou__  \n",
       "freq              188            201  "
      ]
     },
     "execution_count": 55,
     "metadata": {},
     "output_type": "execute_result"
    }
   ],
   "source": [
    "test_df.describe()"
   ]
  },
  {
   "cell_type": "code",
   "execution_count": 56,
   "metadata": {
    "collapsed": false
   },
   "outputs": [
    {
     "data": {
      "text/plain": [
       "<matplotlib.text.Text at 0x11b489470>"
      ]
     },
     "execution_count": 56,
     "metadata": {},
     "output_type": "execute_result"
    },
    {
     "data": {
      "image/png": "[encoded data removed]",
      "text/plain": [
       "<matplotlib.figure.Figure at 0x11352c3c8>"
      ]
     },
     "metadata": {},
     "output_type": "display_data"
    },
    {
     "data": {
      "image/png": "[encoded data removed]",
      "text/plain": [
       "<matplotlib.figure.Figure at 0x121d27be0>"
      ]
     },
     "metadata": {},
     "output_type": "display_data"
    }
   ],
   "source": [
    "plt.figure(1)\n",
    "test_df.Context.str.len().hist()\n",
    "plt.title(\"Test Context Length Statistics\")\n",
    "\n",
    "plt.figure(2)\n",
    "test_df[\"Ground Truth Utterance\"].str.len().hist()\n",
    "plt.title(\"Test Truth Utterance Length Statistics\")"
   ]
  }
 ],
 "metadata": {
  "kernelspec": {
   "display_name": "Python 3",
   "language": "python",
   "name": "python3"
  },
  "language_info": {
   "codemirror_mode": {
    "name": "ipython",
    "version": 3
   },
   "file_extension": ".py",
   "mimetype": "text/x-python",
   "name": "python",
   "nbconvert_exporter": "python",
   "pygments_lexer": "ipython3",
   "version": "3.5.0"
  }
 },
 "nbformat": 4,
 "nbformat_minor": 0
}
