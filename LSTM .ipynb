{
 "cells": [
  {
   "cell_type": "code",
   "execution_count": 340,
   "metadata": {
    "collapsed": true
   },
   "outputs": [],
   "source": [
    "import pandas as pd\n",
    "import numpy as np\n",
    "import tensorflow as tf\n",
    "from tensorflow.models.rnn import rnn, rnn_cell\n",
    "from tensorflow.contrib import skflow\n",
    "from tensorflow.python.framework import dtypes"
   ]
  },
  {
   "cell_type": "code",
   "execution_count": 423,
   "metadata": {
    "collapsed": true
   },
   "outputs": [],
   "source": [
    "# Hyperparameters\n",
    "MAX_DOCUMENT_LENGTH = 50\n",
    "MAX_CONTEXT_LENGTH = 160 # From paper\n",
    "EMBEDDING_SIZE = 50"
   ]
  },
  {
   "cell_type": "code",
   "execution_count": 424,
   "metadata": {
    "collapsed": true
   },
   "outputs": [],
   "source": [
    "# Load Data\n",
    "train_df = pd.read_csv(\"./data/train_small.csv\")\n",
    "test_df = pd.read_csv(\"./data/test.csv\")\n",
    "validation_df = pd.read_csv(\"./data/valid.csv\")\n",
    "y_test = np.zeros(len(test_df))"
   ]
  },
  {
   "cell_type": "code",
   "execution_count": 425,
   "metadata": {
    "collapsed": false
   },
   "outputs": [],
   "source": [
    "# Preprocessing\n",
    "all_sentences = np.append(train_df.Context, train_df.Utterance)\n",
    "vocab_processor = skflow.preprocessing.VocabularyProcessor(MAX_DOCUMENT_LENGTH)\n",
    "vocab_processor.fit(all_sentences)\n",
    "X_train_context = np.array(list(vocab_processor.transform(train_df.Context)))\n",
    "X_train_utterance = np.array(list(vocab_processor.transform(train_df.Utterance)))\n",
    "X_train = np.stack([X_train_context, X_train_utterance], axis=1)\n",
    "y_train = train_df.Label"
   ]
  },
  {
   "cell_type": "code",
   "execution_count": 426,
   "metadata": {
    "collapsed": false
   },
   "outputs": [
    {
     "name": "stdout",
     "output_type": "stream",
     "text": [
      "Total words: 25094\n"
     ]
    }
   ],
   "source": [
    "n_words = len(vocab_processor.vocabulary_)\n",
    "print(\"Total words: {}\".format(n_words))"
   ]
  },
  {
   "cell_type": "code",
   "execution_count": 399,
   "metadata": {
    "collapsed": false
   },
   "outputs": [],
   "source": [
    "def rnn_encoder_model(X, y):\n",
    "    # Split input tensor into separare context and utterance tensor\n",
    "    context, utterance = tf.split(1, 2, X, name='split')\n",
    "    context = tf.squeeze(context, [1])\n",
    "    utterance = tf.squeeze(utterance, [1])\n",
    "    \n",
    "    # Embed context and utterance into the same space\n",
    "    with tf.variable_scope(\"shared_embeddings\") as vs:\n",
    "        word_vectors_context = skflow.ops.categorical_variable(\n",
    "            context, n_classes=n_words, embedding_size=EMBEDDING_SIZE, name='words')\n",
    "        word_list_context = skflow.ops.split_squeeze(1, MAX_DOCUMENT_LENGTH, word_vectors_context)\n",
    "        vs.reuse_variables()\n",
    "        word_vectors_utterance = skflow.ops.categorical_variable(\n",
    "            utterance, n_classes=n_words, embedding_size=EMBEDDING_SIZE, name='words')\n",
    "        word_list_utterance = skflow.ops.split_squeeze(1, MAX_DOCUMENT_LENGTH, word_vectors_utterance)\n",
    "    \n",
    "    # Run context and utterance through the same RNN\n",
    "    with tf.variable_scope(\"shared_rnn_params\") as vs:\n",
    "        cell = tf.nn.rnn_cell.BasicLSTMCell(100)\n",
    "        _, encoding_context = tf.nn.rnn(cell, word_list_context, dtype=dtypes.float32)\n",
    "        vs.reuse_variables()\n",
    "        _, encoding_utterance = tf.nn.rnn(cell, word_list_utterance, dtype=dtypes.float32)\n",
    "\n",
    "    with tf.variable_scope(\"prediction\") as vs:\n",
    "        W = tf.get_variable(\"W\",\n",
    "                            shape=[encoding_context.get_shape()[1], encoding_utterance.get_shape()[1]],\n",
    "                            initializer=tf.random_normal_initializer())\n",
    "        b = tf.get_variable(\"b\", [1])\n",
    "        \n",
    "        # We can interpret this is a \"Generated context\"\n",
    "        generated_context = tf.matmul(encoding_utterance, W)\n",
    "        # Batch multiply contexts and utterances (batch_matmul only works with 3-d tensors)\n",
    "        generated_context = tf.expand_dims(generated_context, 2)\n",
    "        encoding_context = tf.expand_dims(encoding_context, 2)\n",
    "        scores = tf.batch_matmul(generated_context, encoding_context, True) + b\n",
    "        # Go from [15,1,1] to [15,1]: We want a vector of 15 scores\n",
    "        scores = tf.squeeze(scores, [2])\n",
    "        # Convert scores into probabilities\n",
    "        probs = tf.sigmoid(scores)\n",
    "        \n",
    "        # Calculate loss\n",
    "        loss = tf.contrib.losses.logistic(scores, tf.expand_dims(y, 1))\n",
    "        \n",
    "    return [probs, loss]"
   ]
  },
  {
   "cell_type": "code",
   "execution_count": 429,
   "metadata": {
    "collapsed": true
   },
   "outputs": [],
   "source": [
    "classifier = tf.contrib.learn.TensorFlowEstimator(model_fn=rnn_encoder_model, n_classes=1, continue_training=True)"
   ]
  },
  {
   "cell_type": "code",
   "execution_count": 430,
   "metadata": {
    "collapsed": false
   },
   "outputs": [
    {
     "name": "stdout",
     "output_type": "stream",
     "text": [
      "Step #99, avg. train loss: 12.44238\n",
      "Step #199, avg. train loss: 0.70195\n",
      "Step #99, avg. train loss: 0.69790\n",
      "Step #199, avg. train loss: 0.69531\n",
      "Step #99, avg. train loss: 0.69219\n",
      "Step #199, avg. train loss: 0.68963\n",
      "Step #99, avg. train loss: 0.68250\n",
      "Step #199, avg. train loss: 0.67507\n",
      "Step #99, avg. train loss: 0.65989\n",
      "Step #199, avg. train loss: 0.64811\n",
      "Step #99, avg. train loss: 0.63208\n",
      "Step #199, avg. train loss: 0.61260\n",
      "Step #99, avg. train loss: 0.58543\n",
      "Step #199, avg. train loss: 0.55884\n",
      "Step #99, avg. train loss: 0.54358\n",
      "Step #199, avg. train loss: 0.50851\n",
      "Step #99, avg. train loss: 0.50628\n",
      "Step #199, avg. train loss: 0.46157\n",
      "Step #99, avg. train loss: 0.42391\n",
      "Step #199, avg. train loss: 0.39322\n",
      "Step #99, avg. train loss: 0.38274\n",
      "Step #199, avg. train loss: 0.33803\n",
      "Step #99, avg. train loss: 0.29959\n",
      "Step #199, avg. train loss: 0.27522\n",
      "Step #99, avg. train loss: 0.26006\n",
      "Step #199, avg. train loss: 0.23499\n",
      "Step #99, avg. train loss: 0.21986\n",
      "Step #199, avg. train loss: 0.22102\n",
      "Step #99, avg. train loss: 0.16281\n",
      "Step #199, avg. train loss: 0.17830\n",
      "Step #99, avg. train loss: 0.14790\n",
      "Step #199, avg. train loss: 0.13702\n",
      "Step #99, avg. train loss: 0.13120\n",
      "Step #199, avg. train loss: 0.11924\n",
      "Step #99, avg. train loss: 0.11191\n",
      "Step #199, avg. train loss: 0.10397\n",
      "Step #99, avg. train loss: 0.08110\n",
      "Step #199, avg. train loss: 0.07768\n",
      "Step #99, avg. train loss: 0.07781\n",
      "Step #199, avg. train loss: 0.05539\n"
     ]
    },
    {
     "ename": "KeyboardInterrupt",
     "evalue": "",
     "output_type": "error",
     "traceback": [
      "\u001b[0;31m---------------------------------------------------------------------------\u001b[0m",
      "\u001b[0;31mKeyboardInterrupt\u001b[0m                         Traceback (most recent call last)",
      "\u001b[0;32m<ipython-input-430-fdaf74ad266d>\u001b[0m in \u001b[0;36m<module>\u001b[0;34m()\u001b[0m\n\u001b[1;32m      1\u001b[0m \u001b[0;32mwhile\u001b[0m \u001b[0;32mTrue\u001b[0m\u001b[0;34m:\u001b[0m\u001b[0;34m\u001b[0m\u001b[0m\n\u001b[0;32m----> 2\u001b[0;31m     \u001b[0mclassifier\u001b[0m\u001b[0;34m.\u001b[0m\u001b[0mfit\u001b[0m\u001b[0;34m(\u001b[0m\u001b[0mX_train\u001b[0m\u001b[0;34m,\u001b[0m \u001b[0my_train\u001b[0m\u001b[0;34m,\u001b[0m \u001b[0mlogdir\u001b[0m\u001b[0;34m=\u001b[0m\u001b[0;34m'/tmp/tf/dual_lstm_chatbot'\u001b[0m\u001b[0;34m)\u001b[0m\u001b[0;34m\u001b[0m\u001b[0m\n\u001b[0m",
      "\u001b[0;32m/Users/dennybritz/projects/venvs/tensorflow/lib/python3.5/site-packages/tensorflow/contrib/learn/python/learn/estimators/base.py\u001b[0m in \u001b[0;36mfit\u001b[0;34m(self, X, y, monitor, logdir)\u001b[0m\n\u001b[1;32m    252\u001b[0m             \u001b[0msummary_writer\u001b[0m\u001b[0;34m=\u001b[0m\u001b[0mself\u001b[0m\u001b[0;34m.\u001b[0m\u001b[0m_summary_writer\u001b[0m\u001b[0;34m,\u001b[0m\u001b[0;34m\u001b[0m\u001b[0m\n\u001b[1;32m    253\u001b[0m             \u001b[0msummaries\u001b[0m\u001b[0;34m=\u001b[0m\u001b[0mself\u001b[0m\u001b[0;34m.\u001b[0m\u001b[0m_summaries\u001b[0m\u001b[0;34m,\u001b[0m\u001b[0;34m\u001b[0m\u001b[0m\n\u001b[0;32m--> 254\u001b[0;31m             feed_params_fn=self._data_feeder.get_feed_params)\n\u001b[0m\u001b[1;32m    255\u001b[0m         \u001b[0;32mreturn\u001b[0m \u001b[0mself\u001b[0m\u001b[0;34m\u001b[0m\u001b[0m\n\u001b[1;32m    256\u001b[0m \u001b[0;34m\u001b[0m\u001b[0m\n",
      "\u001b[0;32m/Users/dennybritz/projects/venvs/tensorflow/lib/python3.5/site-packages/tensorflow/contrib/learn/python/learn/trainer.py\u001b[0m in \u001b[0;36mtrain\u001b[0;34m(session, train_op, loss, global_step, feed_dict_fn, steps, monitor, summary_writer, summaries, feed_params_fn)\u001b[0m\n\u001b[1;32m     51\u001b[0m             global_step_value, loss_value, summ, _ = session.run(\n\u001b[1;32m     52\u001b[0m                 \u001b[0;34m[\u001b[0m\u001b[0mglobal_step\u001b[0m\u001b[0;34m,\u001b[0m \u001b[0mloss\u001b[0m\u001b[0;34m,\u001b[0m \u001b[0msummaries\u001b[0m\u001b[0;34m,\u001b[0m \u001b[0mtrain_op\u001b[0m\u001b[0;34m]\u001b[0m\u001b[0;34m,\u001b[0m\u001b[0;34m\u001b[0m\u001b[0m\n\u001b[0;32m---> 53\u001b[0;31m                 feed_dict=feed_dict)\n\u001b[0m\u001b[1;32m     54\u001b[0m         \u001b[0;32melse\u001b[0m\u001b[0;34m:\u001b[0m\u001b[0;34m\u001b[0m\u001b[0m\n\u001b[1;32m     55\u001b[0m             global_step_value, loss_value, _ = session.run(\n",
      "\u001b[0;32m/Users/dennybritz/projects/venvs/tensorflow/lib/python3.5/site-packages/tensorflow/python/client/session.py\u001b[0m in \u001b[0;36mrun\u001b[0;34m(self, fetches, feed_dict, options, run_metadata)\u001b[0m\n\u001b[1;32m    338\u001b[0m     \u001b[0;32mtry\u001b[0m\u001b[0;34m:\u001b[0m\u001b[0;34m\u001b[0m\u001b[0m\n\u001b[1;32m    339\u001b[0m       result = self._run(None, fetches, feed_dict, options_ptr,\n\u001b[0;32m--> 340\u001b[0;31m                          run_metadata_ptr)\n\u001b[0m\u001b[1;32m    341\u001b[0m       \u001b[0;32mif\u001b[0m \u001b[0mrun_metadata\u001b[0m\u001b[0;34m:\u001b[0m\u001b[0;34m\u001b[0m\u001b[0m\n\u001b[1;32m    342\u001b[0m         \u001b[0mproto_data\u001b[0m \u001b[0;34m=\u001b[0m \u001b[0mtf_session\u001b[0m\u001b[0;34m.\u001b[0m\u001b[0mTF_GetBuffer\u001b[0m\u001b[0;34m(\u001b[0m\u001b[0mrun_metadata_ptr\u001b[0m\u001b[0;34m)\u001b[0m\u001b[0;34m\u001b[0m\u001b[0m\n",
      "\u001b[0;32m/Users/dennybritz/projects/venvs/tensorflow/lib/python3.5/site-packages/tensorflow/python/client/session.py\u001b[0m in \u001b[0;36m_run\u001b[0;34m(self, handle, fetches, feed_dict, options, run_metadata)\u001b[0m\n\u001b[1;32m    562\u001b[0m     \u001b[0;32mtry\u001b[0m\u001b[0;34m:\u001b[0m\u001b[0;34m\u001b[0m\u001b[0m\n\u001b[1;32m    563\u001b[0m       results = self._do_run(handle, target_list, unique_fetches,\n\u001b[0;32m--> 564\u001b[0;31m                              feed_dict_string, options, run_metadata)\n\u001b[0m\u001b[1;32m    565\u001b[0m     \u001b[0;32mfinally\u001b[0m\u001b[0;34m:\u001b[0m\u001b[0;34m\u001b[0m\u001b[0m\n\u001b[1;32m    566\u001b[0m       \u001b[0;31m# The movers are no longer used. Delete them.\u001b[0m\u001b[0;34m\u001b[0m\u001b[0;34m\u001b[0m\u001b[0m\n",
      "\u001b[0;32m/Users/dennybritz/projects/venvs/tensorflow/lib/python3.5/site-packages/tensorflow/python/client/session.py\u001b[0m in \u001b[0;36m_do_run\u001b[0;34m(self, handle, target_list, fetch_list, feed_dict, options, run_metadata)\u001b[0m\n\u001b[1;32m    635\u001b[0m     \u001b[0;32mif\u001b[0m \u001b[0mhandle\u001b[0m \u001b[0;32mis\u001b[0m \u001b[0;32mNone\u001b[0m\u001b[0;34m:\u001b[0m\u001b[0;34m\u001b[0m\u001b[0m\n\u001b[1;32m    636\u001b[0m       return self._do_call(_run_fn, self._session, feed_dict, fetch_list,\n\u001b[0;32m--> 637\u001b[0;31m                            target_list, options, run_metadata)\n\u001b[0m\u001b[1;32m    638\u001b[0m     \u001b[0;32melse\u001b[0m\u001b[0;34m:\u001b[0m\u001b[0;34m\u001b[0m\u001b[0m\n\u001b[1;32m    639\u001b[0m       return self._do_call(_prun_fn, self._session, handle, feed_dict,\n",
      "\u001b[0;32m/Users/dennybritz/projects/venvs/tensorflow/lib/python3.5/site-packages/tensorflow/python/client/session.py\u001b[0m in \u001b[0;36m_do_call\u001b[0;34m(self, fn, *args)\u001b[0m\n\u001b[1;32m    642\u001b[0m   \u001b[0;32mdef\u001b[0m \u001b[0m_do_call\u001b[0m\u001b[0;34m(\u001b[0m\u001b[0mself\u001b[0m\u001b[0;34m,\u001b[0m \u001b[0mfn\u001b[0m\u001b[0;34m,\u001b[0m \u001b[0;34m*\u001b[0m\u001b[0margs\u001b[0m\u001b[0;34m)\u001b[0m\u001b[0;34m:\u001b[0m\u001b[0;34m\u001b[0m\u001b[0m\n\u001b[1;32m    643\u001b[0m     \u001b[0;32mtry\u001b[0m\u001b[0;34m:\u001b[0m\u001b[0;34m\u001b[0m\u001b[0m\n\u001b[0;32m--> 644\u001b[0;31m       \u001b[0;32mreturn\u001b[0m \u001b[0mfn\u001b[0m\u001b[0;34m(\u001b[0m\u001b[0;34m*\u001b[0m\u001b[0margs\u001b[0m\u001b[0;34m)\u001b[0m\u001b[0;34m\u001b[0m\u001b[0m\n\u001b[0m\u001b[1;32m    645\u001b[0m     \u001b[0;32mexcept\u001b[0m \u001b[0mtf_session\u001b[0m\u001b[0;34m.\u001b[0m\u001b[0mStatusNotOK\u001b[0m \u001b[0;32mas\u001b[0m \u001b[0me\u001b[0m\u001b[0;34m:\u001b[0m\u001b[0;34m\u001b[0m\u001b[0m\n\u001b[1;32m    646\u001b[0m       \u001b[0merror_message\u001b[0m \u001b[0;34m=\u001b[0m \u001b[0mcompat\u001b[0m\u001b[0;34m.\u001b[0m\u001b[0mas_text\u001b[0m\u001b[0;34m(\u001b[0m\u001b[0me\u001b[0m\u001b[0;34m.\u001b[0m\u001b[0merror_message\u001b[0m\u001b[0;34m)\u001b[0m\u001b[0;34m\u001b[0m\u001b[0m\n",
      "\u001b[0;32m/Users/dennybritz/projects/venvs/tensorflow/lib/python3.5/site-packages/tensorflow/python/client/session.py\u001b[0m in \u001b[0;36m_run_fn\u001b[0;34m(session, feed_dict, fetch_list, target_list, options, run_metadata)\u001b[0m\n\u001b[1;32m    626\u001b[0m       \u001b[0;32melse\u001b[0m\u001b[0;34m:\u001b[0m\u001b[0;34m\u001b[0m\u001b[0m\n\u001b[1;32m    627\u001b[0m         return tf_session.TF_Run(\n\u001b[0;32m--> 628\u001b[0;31m             session, None, feed_dict, fetch_list, target_list, None)\n\u001b[0m\u001b[1;32m    629\u001b[0m \u001b[0;34m\u001b[0m\u001b[0m\n\u001b[1;32m    630\u001b[0m     \u001b[0;32mdef\u001b[0m \u001b[0m_prun_fn\u001b[0m\u001b[0;34m(\u001b[0m\u001b[0msession\u001b[0m\u001b[0;34m,\u001b[0m \u001b[0mhandle\u001b[0m\u001b[0;34m,\u001b[0m \u001b[0mfeed_dict\u001b[0m\u001b[0;34m,\u001b[0m \u001b[0mfetch_list\u001b[0m\u001b[0;34m)\u001b[0m\u001b[0;34m:\u001b[0m\u001b[0;34m\u001b[0m\u001b[0m\n",
      "\u001b[0;31mKeyboardInterrupt\u001b[0m: "
     ]
    }
   ],
   "source": [
    "while True:\n",
    "    classifier.fit(X_train, y_train, logdir='/tmp/tf/dual_lstm_chatbot')"
   ]
  },
  {
   "cell_type": "code",
   "execution_count": 352,
   "metadata": {
    "collapsed": true
   },
   "outputs": [],
   "source": [
    "# Evaluation\n",
    "def evaluate_recall(y, y_labels, n=1):\n",
    "    num_examples = float(len(y))\n",
    "    num_correct = 0\n",
    "    for predictions, label in zip(y, y_labels):\n",
    "        if label in predictions[:n]:\n",
    "            num_correct += 1\n",
    "    return num_correct/num_examples"
   ]
  },
  {
   "cell_type": "code",
   "execution_count": 418,
   "metadata": {
    "collapsed": false
   },
   "outputs": [],
   "source": [
    "def predict_rnn(context, utterances, n=1):\n",
    "    cvec = np.array(list(vocab_processor.transform([context])))\n",
    "    input_vectors = []\n",
    "    for u in utterances:\n",
    "        uvec = np.array(list(vocab_processor.transform([u])))\n",
    "        # print(uvec.shape)\n",
    "        stacked = np.stack([cvec, uvec], axis=1)\n",
    "        input_vectors.append(stacked)\n",
    "    batch = np.vstack(input_vectors)\n",
    "    result = classifier.predict_proba(batch)[:,0]\n",
    "    print(\".\", end=\"\")\n",
    "    return np.argsort(result)[::-1]"
   ]
  },
  {
   "cell_type": "code",
   "execution_count": 419,
   "metadata": {
    "collapsed": false
   },
   "outputs": [
    {
     "name": "stdout",
     "output_type": "stream",
     "text": [
      "."
     ]
    },
    {
     "data": {
      "text/plain": [
       "array([6, 0, 5, 2, 8, 7, 4, 3, 9, 1])"
      ]
     },
     "execution_count": 419,
     "metadata": {},
     "output_type": "execute_result"
    }
   ],
   "source": [
    "predict_rnn(test_df.Context[1], test_df.iloc[1,1:].values)"
   ]
  },
  {
   "cell_type": "code",
   "execution_count": 431,
   "metadata": {
    "collapsed": false
   },
   "outputs": [
    {
     "name": "stdout",
     "output_type": "stream",
     "text": [
      "....................................................................................................\n",
      "Recall @ (1, 10): 0.15\n",
      "Recall @ (2, 10): 0.25\n",
      "Recall @ (5, 10): 0.5\n",
      "Recall @ (10, 10): 1\n"
     ]
    }
   ],
   "source": [
    "# Evaluate RNN predictor\n",
    "y_test = np.zeros(len(test_df))\n",
    "y = [predict_rnn(test_df.Context[x], test_df.iloc[x,1:].values) for x in range(100)]\n",
    "print(\"\")\n",
    "for n in [1, 2, 5, 10]:\n",
    "    print(\"Recall @ ({}, 10): {:g}\".format(n, evaluate_recall(y, y_test, n)))"
   ]
  },
  {
   "cell_type": "code",
   "execution_count": null,
   "metadata": {
    "collapsed": true
   },
   "outputs": [],
   "source": []
  }
 ],
 "metadata": {
  "kernelspec": {
   "display_name": "Python 3",
   "language": "python",
   "name": "python3"
  },
  "language_info": {
   "codemirror_mode": {
    "name": "ipython",
    "version": 3
   },
   "file_extension": ".py",
   "mimetype": "text/x-python",
   "name": "python",
   "nbconvert_exporter": "python",
   "pygments_lexer": "ipython3",
   "version": "3.5.0"
  }
 },
 "nbformat": 4,
 "nbformat_minor": 0
}
