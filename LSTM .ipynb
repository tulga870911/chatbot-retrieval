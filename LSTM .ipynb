{
 "cells": [
  {
   "cell_type": "code",
   "execution_count": 1,
   "metadata": {
    "collapsed": true
   },
   "outputs": [],
   "source": [
    "import pandas as pd\n",
    "import numpy as np\n",
    "import tensorflow as tf\n",
    "from tensorflow.models.rnn import rnn, rnn_cell\n",
    "from tensorflow.contrib import skflow\n",
    "from tensorflow.python.framework import dtypes\n",
    "from helpers import load_glove_vectors"
   ]
  },
  {
   "cell_type": "code",
   "execution_count": 2,
   "metadata": {
    "collapsed": true
   },
   "outputs": [],
   "source": [
    "# The maximum number of words to consider for the contexts\n",
    "MAX_CONTEXT_LENGTH = 32\n",
    "\n",
    "# The maximum number of words to consider for the utterances\n",
    "MAX_UTTERANCE_LENGTH = 16\n",
    "\n",
    "# Word embedding dimensionality\n",
    "EMBEDDING_SIZE = 50\n",
    "\n",
    "# LSTM Cell dimensionality\n",
    "LSTM_CELL_SIZE = 16"
   ]
  },
  {
   "cell_type": "code",
   "execution_count": 3,
   "metadata": {
    "collapsed": false
   },
   "outputs": [],
   "source": [
    "# Load Data\n",
    "train_df = pd.read_csv(\"./data/train_small.csv\")\n",
    "test_df = pd.read_csv(\"./data/test.csv\")\n",
    "validation_df = pd.read_csv(\"./data/valid.csv\")\n",
    "y_test = np.zeros(len(test_df))"
   ]
  },
  {
   "cell_type": "code",
   "execution_count": 4,
   "metadata": {
    "collapsed": false
   },
   "outputs": [],
   "source": [
    "# Preprocessing\n",
    "# ==================================================\n",
    "\n",
    "# Create vocabulary mapping\n",
    "all_sentences = np.append(train_df.Context, train_df.Utterance)\n",
    "vocab_processor = skflow.preprocessing.VocabularyProcessor(MAX_CONTEXT_LENGTH)\n",
    "vocab_processor.fit(all_sentences)\n",
    "\n",
    "# Transform contexts and utterances\n",
    "X_train_context = np.array(list(vocab_processor.transform(train_df.Context)))\n",
    "X_train_utterance = np.array(list(vocab_processor.transform(train_df.Utterance)))\n",
    "\n",
    "# Generate training tensor\n",
    "X_train = np.stack([X_train_context, X_train_utterance], axis=1)\n",
    "y_train = train_df.Label"
   ]
  },
  {
   "cell_type": "code",
   "execution_count": 5,
   "metadata": {
    "collapsed": false
   },
   "outputs": [
    {
     "name": "stdout",
     "output_type": "stream",
     "text": [
      "Total words: 25094\n"
     ]
    }
   ],
   "source": [
    "n_words = len(vocab_processor.vocabulary_)\n",
    "print(\"Total words: {}\".format(n_words))"
   ]
  },
  {
   "cell_type": "code",
   "execution_count": 6,
   "metadata": {
    "collapsed": false
   },
   "outputs": [],
   "source": [
    "# # Load glove vectors\n",
    "# vocab_set = set(vocab_processor.vocabulary_._mapping.keys())\n",
    "# glove_vectors, glove_dict = load_glove_vectors(\"./data/glove.840B.300d.txt\", vocab=vocab_set)"
   ]
  },
  {
   "cell_type": "code",
   "execution_count": 7,
   "metadata": {
    "collapsed": false
   },
   "outputs": [],
   "source": [
    "# Build initial word embeddings\n",
    "initial_embeddings = np.random.randn(n_words, EMBEDDING_SIZE).astype(\"float32\")\n",
    "# for word, glove_word_idx in glove_dict.items():\n",
    "#     word_idx = vocab_processor.vocabulary_.get(word)\n",
    "#     initial_embeddings[word_idx, :] = glove_vectors[glove_word_idx]"
   ]
  },
  {
   "cell_type": "code",
   "execution_count": 8,
   "metadata": {
    "collapsed": true
   },
   "outputs": [],
   "source": [
    "def get_sequence_length(input_tensor, max_length):\n",
    "    \"\"\"\n",
    "    If a sentence is padded, returns the index of the first 0 (the padding symbol).\n",
    "    If the sentence has no padding, returns the max length.\n",
    "    \"\"\"\n",
    "    zero_tensor = np.zeros_like(input_tensor)\n",
    "    comparsion = tf.equal(input_tensor, zero_tensor)\n",
    "    zero_positions = tf.argmax(tf.to_int32(comparsion), 1)\n",
    "    position_mask = tf.to_int64(tf.equal(zero_positions, 0))\n",
    "    sequence_lengths = zero_positions + (position_mask * max_length) + (1 - position_mask) * -1\n",
    "    return sequence_lengths"
   ]
  },
  {
   "cell_type": "code",
   "execution_count": 35,
   "metadata": {
    "collapsed": false
   },
   "outputs": [],
   "source": [
    "def rnn_encoder_model(X, y):\n",
    "    # Split input tensor into separare context and utterance tensor\n",
    "    context, utterance = tf.split(1, 2, X, name='split')\n",
    "    context = tf.squeeze(context, [1])\n",
    "    utterance = tf.squeeze(utterance, [1])\n",
    "    utterance_truncated = tf.slice(utterance, [0,0], [-1,MAX_UTTERANCE_LENGTH])\n",
    "    \n",
    "    # Calculate the sequence length for RNN calculation\n",
    "    context_seq_length = get_sequence_length(context, MAX_CONTEXT_LENGTH)\n",
    "    utterance_seq_length = get_sequence_length(utterance, MAX_UTTERANCE_LENGTH)\n",
    "    \n",
    "    # Embed context and utterance into the same space\n",
    "    with tf.variable_scope(\"shared_embeddings\") as vs, tf.device('/cpu:0'):\n",
    "        embedding_tensor = tf.convert_to_tensor(initial_embeddings)\n",
    "        embeddings = tf.get_variable(\"word_embeddings\",\n",
    "                                     initializer=embedding_tensor)\n",
    "        # Embed the context\n",
    "        word_vectors_context = skflow.ops.embedding_lookup(embeddings, context)\n",
    "        word_list_context = skflow.ops.split_squeeze(1, MAX_CONTEXT_LENGTH, word_vectors_context)\n",
    "        # Embed the utterance\n",
    "        word_vectors_utterance = skflow.ops.embedding_lookup(embeddings, utterance_truncated)\n",
    "        word_list_utterance = skflow.ops.split_squeeze(1, MAX_UTTERANCE_LENGTH, word_vectors_utterance)\n",
    "    \n",
    "    # Run context and utterance through the same RNN\n",
    "    with tf.variable_scope(\"shared_rnn_params\") as vs:\n",
    "        cell = tf.nn.rnn_cell.BasicLSTMCell(LSTM_CELL_SIZE)\n",
    "        context_outputs, context_state = tf.nn.rnn(\n",
    "            cell, word_list_context, dtype=dtypes.float32, sequence_length=context_seq_length)\n",
    "        encoding_context = tf.slice(context_state, [0, cell.output_size], [-1, -1])\n",
    "        vs.reuse_variables()\n",
    "        utterance_outputs, utterance_state = tf.nn.rnn(\n",
    "            cell, word_list_utterance, dtype=dtypes.float32, sequence_length=utterance_seq_length)\n",
    "        encoding_utterance = tf.slice(utterance_state, [0, cell.output_size], [-1, -1])\n",
    "\n",
    "    with tf.variable_scope(\"prediction\") as vs:\n",
    "        W = tf.get_variable(\"W\",\n",
    "                            shape=[encoding_context.get_shape()[1], encoding_utterance.get_shape()[1]],\n",
    "                            initializer=tf.random_normal_initializer())\n",
    "        b = tf.get_variable(\"b\", [1])\n",
    "        \n",
    "        # We can interpret this is a \"Generated context\"\n",
    "        generated_context = tf.matmul(encoding_utterance, W)\n",
    "        # Batch multiply contexts and utterances (batch_matmul only works with 3-d tensors)\n",
    "        generated_context = tf.expand_dims(generated_context, 2)\n",
    "        encoding_context = tf.expand_dims(encoding_context, 2)\n",
    "        scores = tf.batch_matmul(generated_context, encoding_context, True) + b\n",
    "        # Go from [15,1,1] to [15,1]: We want a vector of 15 scores\n",
    "        scores = tf.squeeze(scores, [2])\n",
    "        # Convert scores into probabilities\n",
    "        probs = tf.sigmoid(scores)\n",
    "        \n",
    "        # Calculate loss\n",
    "        loss = tf.contrib.losses.logistic(scores, tf.expand_dims(y, 1))\n",
    "        \n",
    "    return [probs, loss]"
   ]
  },
  {
   "cell_type": "code",
   "execution_count": 36,
   "metadata": {
    "collapsed": true
   },
   "outputs": [],
   "source": [
    "# Evaluation\n",
    "def evaluate_recall(y, y_labels, n=1):\n",
    "    num_examples = float(len(y))\n",
    "    num_correct = 0\n",
    "    for predictions, label in zip(y, y_labels):\n",
    "        if label in predictions[:n]:\n",
    "            num_correct += 1\n",
    "    return num_correct/num_examples"
   ]
  },
  {
   "cell_type": "code",
   "execution_count": 37,
   "metadata": {
    "collapsed": true
   },
   "outputs": [],
   "source": [
    "def predict_rnn_batch(contexts, utterances, n=1):\n",
    "    num_contexts = len(contexts)\n",
    "    num_records = np.multiply(*utterances.shape)\n",
    "    input_vectors = []\n",
    "    for context, utterance_list in zip(contexts, utterances):\n",
    "        cvec = np.array(list(vocab_processor.transform([context])))\n",
    "        for u in utterance_list:\n",
    "            uvec = np.array(list(vocab_processor.transform([u])))\n",
    "            stacked = np.stack([cvec, uvec], axis=1)\n",
    "            input_vectors.append(stacked)\n",
    "    batch = np.vstack(input_vectors)\n",
    "    result = classifier.predict_proba(batch)[:,0]\n",
    "    result = np.split(result, num_contexts)\n",
    "    return np.argsort(result, axis=1)[:,::-1]"
   ]
  },
  {
   "cell_type": "code",
   "execution_count": 38,
   "metadata": {
    "collapsed": true
   },
   "outputs": [],
   "source": [
    "def evaluate_rnn_predictor(df):\n",
    "    y_test = np.zeros(len(df))\n",
    "    y = predict_rnn_batch(df.Context, df.iloc[:,1:].values)\n",
    "    for n in [1, 2, 5, 10]:\n",
    "        print(\"Recall @ ({}, 10): {:g}\".format(n, evaluate_recall(y, y_test, n)))"
   ]
  },
  {
   "cell_type": "code",
   "execution_count": 39,
   "metadata": {
    "collapsed": true
   },
   "outputs": [],
   "source": [
    "class ValidationMonitor(tf.contrib.learn.monitors.BaseMonitor):\n",
    "    def __init__(self, print_steps=100, early_stopping_rounds=None, verbose=1, val_steps=1000):\n",
    "        super(ValidationMonitor, self).__init__(\n",
    "            print_steps=print_steps,\n",
    "            early_stopping_rounds=early_stopping_rounds,\n",
    "            verbose=verbose)\n",
    "        self.val_steps = val_steps\n",
    "\n",
    "    def _modify_summary_string(self):\n",
    "        if self.steps % self.val_steps == 0:\n",
    "            evaluate_rnn_predictor(validation_df)"
   ]
  },
  {
   "cell_type": "code",
   "execution_count": 40,
   "metadata": {
    "collapsed": true
   },
   "outputs": [],
   "source": [
    "def training_rate_decay_func(global_step):\n",
    "    return tf.train.exponential_decay(1e-4, global_step, 10000, 0.95, True)"
   ]
  },
  {
   "cell_type": "code",
   "execution_count": 41,
   "metadata": {
    "collapsed": false
   },
   "outputs": [],
   "source": [
    "classifier = tf.contrib.learn.TensorFlowEstimator(\n",
    "    model_fn=rnn_encoder_model,\n",
    "    n_classes=1,\n",
    "    continue_training=True,\n",
    "    learning_rate=training_rate_decay_func,\n",
    "    steps=1000000,\n",
    "    batch_size=16)"
   ]
  },
  {
   "cell_type": "code",
   "execution_count": 42,
   "metadata": {
    "collapsed": true
   },
   "outputs": [],
   "source": [
    "# classifier = tf.contrib.learn.TensorFlowEstimator.restore('./tmp/tf/dual_lstm_chatbot/checkpoints')"
   ]
  },
  {
   "cell_type": "code",
   "execution_count": 43,
   "metadata": {
    "collapsed": false
   },
   "outputs": [
    {
     "ename": "NameError",
     "evalue": "name 'context_seq_length' is not defined",
     "output_type": "error",
     "traceback": [
      "\u001b[0;31m---------------------------------------------------------------------------\u001b[0m",
      "\u001b[0;31mNameError\u001b[0m                                 Traceback (most recent call last)",
      "\u001b[0;32m<ipython-input-43-67e3b9729670>\u001b[0m in \u001b[0;36m<module>\u001b[0;34m()\u001b[0m\n\u001b[1;32m      1\u001b[0m \u001b[0mmonitor\u001b[0m \u001b[0;34m=\u001b[0m \u001b[0mValidationMonitor\u001b[0m\u001b[0;34m(\u001b[0m\u001b[0mprint_steps\u001b[0m\u001b[0;34m=\u001b[0m\u001b[0;36m100\u001b[0m\u001b[0;34m,\u001b[0m \u001b[0mval_steps\u001b[0m\u001b[0;34m=\u001b[0m\u001b[0;36m10000\u001b[0m\u001b[0;34m)\u001b[0m\u001b[0;34m\u001b[0m\u001b[0m\n\u001b[0;32m----> 2\u001b[0;31m \u001b[0mclassifier\u001b[0m\u001b[0;34m.\u001b[0m\u001b[0mfit\u001b[0m\u001b[0;34m(\u001b[0m\u001b[0mX_train\u001b[0m\u001b[0;34m,\u001b[0m \u001b[0my_train\u001b[0m\u001b[0;34m,\u001b[0m \u001b[0mlogdir\u001b[0m\u001b[0;34m=\u001b[0m\u001b[0;34m'./tmp/tf/dual_lstm_chatbot/'\u001b[0m\u001b[0;34m,\u001b[0m \u001b[0mmonitor\u001b[0m\u001b[0;34m=\u001b[0m\u001b[0mmonitor\u001b[0m\u001b[0;34m)\u001b[0m\u001b[0;34m\u001b[0m\u001b[0m\n\u001b[0m",
      "\u001b[0;32m/Users/dennybritz/projects/venvs/tensorflow/lib/python3.5/site-packages/tensorflow/contrib/learn/python/learn/estimators/base.py\u001b[0m in \u001b[0;36mfit\u001b[0;34m(self, X, y, monitor, logdir)\u001b[0m\n\u001b[1;32m    225\u001b[0m         \u001b[0;32mif\u001b[0m \u001b[0;32mnot\u001b[0m \u001b[0mself\u001b[0m\u001b[0;34m.\u001b[0m\u001b[0mcontinue_training\u001b[0m \u001b[0;32mor\u001b[0m \u001b[0;32mnot\u001b[0m \u001b[0mself\u001b[0m\u001b[0;34m.\u001b[0m\u001b[0m_initialized\u001b[0m\u001b[0;34m:\u001b[0m\u001b[0;34m\u001b[0m\u001b[0m\n\u001b[1;32m    226\u001b[0m             \u001b[0;31m# Sets up model and trainer.\u001b[0m\u001b[0;34m\u001b[0m\u001b[0;34m\u001b[0m\u001b[0m\n\u001b[0;32m--> 227\u001b[0;31m             \u001b[0mself\u001b[0m\u001b[0;34m.\u001b[0m\u001b[0m_setup_training\u001b[0m\u001b[0;34m(\u001b[0m\u001b[0;34m)\u001b[0m\u001b[0;34m\u001b[0m\u001b[0m\n\u001b[0m\u001b[1;32m    228\u001b[0m             \u001b[0mself\u001b[0m\u001b[0;34m.\u001b[0m\u001b[0m_initialized\u001b[0m \u001b[0;34m=\u001b[0m \u001b[0;32mTrue\u001b[0m\u001b[0;34m\u001b[0m\u001b[0m\n\u001b[1;32m    229\u001b[0m         \u001b[0;32melse\u001b[0m\u001b[0;34m:\u001b[0m\u001b[0;34m\u001b[0m\u001b[0m\n",
      "\u001b[0;32m/Users/dennybritz/projects/venvs/tensorflow/lib/python3.5/site-packages/tensorflow/contrib/learn/python/learn/estimators/base.py\u001b[0m in \u001b[0;36m_setup_training\u001b[0;34m(self)\u001b[0m\n\u001b[1;32m    146\u001b[0m             \u001b[0;31m# Create model's graph.\u001b[0m\u001b[0;34m\u001b[0m\u001b[0;34m\u001b[0m\u001b[0m\n\u001b[1;32m    147\u001b[0m             self._model_predictions, self._model_loss = self.model_fn(\n\u001b[0;32m--> 148\u001b[0;31m                 self._inp, self._out)\n\u001b[0m\u001b[1;32m    149\u001b[0m \u001b[0;34m\u001b[0m\u001b[0m\n\u001b[1;32m    150\u001b[0m             \u001b[0;31m# Set up a single operator to merge all the summaries\u001b[0m\u001b[0;34m\u001b[0m\u001b[0;34m\u001b[0m\u001b[0m\n",
      "\u001b[0;32m<ipython-input-35-a6046930d3fd>\u001b[0m in \u001b[0;36mrnn_encoder_model\u001b[0;34m(X, y)\u001b[0m\n\u001b[1;32m     26\u001b[0m         \u001b[0mcell\u001b[0m \u001b[0;34m=\u001b[0m \u001b[0mtf\u001b[0m\u001b[0;34m.\u001b[0m\u001b[0mnn\u001b[0m\u001b[0;34m.\u001b[0m\u001b[0mrnn_cell\u001b[0m\u001b[0;34m.\u001b[0m\u001b[0mBasicLSTMCell\u001b[0m\u001b[0;34m(\u001b[0m\u001b[0mLSTM_CELL_SIZE\u001b[0m\u001b[0;34m)\u001b[0m\u001b[0;34m\u001b[0m\u001b[0m\n\u001b[1;32m     27\u001b[0m         context_outputs, context_state = tf.nn.rnn(\n\u001b[0;32m---> 28\u001b[0;31m             cell, word_list_context, dtype=dtypes.float32, sequence_length=context_seq_length)\n\u001b[0m\u001b[1;32m     29\u001b[0m         \u001b[0mencoding_context\u001b[0m \u001b[0;34m=\u001b[0m \u001b[0mtf\u001b[0m\u001b[0;34m.\u001b[0m\u001b[0mslice\u001b[0m\u001b[0;34m(\u001b[0m\u001b[0mcontext_state\u001b[0m\u001b[0;34m,\u001b[0m \u001b[0;34m[\u001b[0m\u001b[0;36m0\u001b[0m\u001b[0;34m,\u001b[0m \u001b[0mcell\u001b[0m\u001b[0;34m.\u001b[0m\u001b[0moutput_size\u001b[0m\u001b[0;34m]\u001b[0m\u001b[0;34m,\u001b[0m \u001b[0;34m[\u001b[0m\u001b[0;34m-\u001b[0m\u001b[0;36m1\u001b[0m\u001b[0;34m,\u001b[0m \u001b[0;34m-\u001b[0m\u001b[0;36m1\u001b[0m\u001b[0;34m]\u001b[0m\u001b[0;34m)\u001b[0m\u001b[0;34m\u001b[0m\u001b[0m\n\u001b[1;32m     30\u001b[0m         \u001b[0mvs\u001b[0m\u001b[0;34m.\u001b[0m\u001b[0mreuse_variables\u001b[0m\u001b[0;34m(\u001b[0m\u001b[0;34m)\u001b[0m\u001b[0;34m\u001b[0m\u001b[0m\n",
      "\u001b[0;31mNameError\u001b[0m: name 'context_seq_length' is not defined"
     ]
    }
   ],
   "source": [
    "monitor = ValidationMonitor(print_steps=100, val_steps=10000)\n",
    "classifier.fit(X_train, y_train, logdir='./tmp/tf/dual_lstm_chatbot/', monitor=monitor)"
   ]
  },
  {
   "cell_type": "code",
   "execution_count": null,
   "metadata": {
    "collapsed": true
   },
   "outputs": [],
   "source": []
  }
 ],
 "metadata": {
  "kernelspec": {
   "display_name": "Python 3",
   "language": "python",
   "name": "python3"
  },
  "language_info": {
   "codemirror_mode": {
    "name": "ipython",
    "version": 3
   },
   "file_extension": ".py",
   "mimetype": "text/x-python",
   "name": "python",
   "nbconvert_exporter": "python",
   "pygments_lexer": "ipython3",
   "version": "3.5.0"
  }
 },
 "nbformat": 4,
 "nbformat_minor": 0
}
