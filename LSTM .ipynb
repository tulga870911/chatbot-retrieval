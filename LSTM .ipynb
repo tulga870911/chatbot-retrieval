{
 "cells": [
  {
   "cell_type": "code",
   "execution_count": 1,
   "metadata": {
    "collapsed": true
   },
   "outputs": [],
   "source": [
    "import pandas as pd\n",
    "import numpy as np\n",
    "import tensorflow as tf\n",
    "from tensorflow.models.rnn import rnn, rnn_cell\n",
    "from tensorflow.contrib import skflow\n",
    "from tensorflow.python.framework import dtypes\n",
    "from helpers import load_glove_vectors"
   ]
  },
  {
   "cell_type": "code",
   "execution_count": 2,
   "metadata": {
    "collapsed": true
   },
   "outputs": [],
   "source": [
    "# The maximum number of words to consider for the contexts\n",
    "MAX_CONTEXT_LENGTH = 32\n",
    "\n",
    "# The maximum number of words to consider for the utterances\n",
    "MAX_UTTERANCE_LENGTH = 16\n",
    "\n",
    "# Word embedding dimensionality\n",
    "EMBEDDING_SIZE = 50\n",
    "\n",
    "# LSTM Cell dimensionality\n",
    "LSTM_CELL_SIZE = 16"
   ]
  },
  {
   "cell_type": "code",
   "execution_count": 3,
   "metadata": {
    "collapsed": false
   },
   "outputs": [],
   "source": [
    "# Load Data\n",
    "train_df = pd.read_csv(\"./data/train_small.csv\")\n",
    "test_df = pd.read_csv(\"./data/test.csv\")\n",
    "validation_df = pd.read_csv(\"./data/valid.csv\")\n",
    "y_test = np.zeros(len(test_df))"
   ]
  },
  {
   "cell_type": "code",
   "execution_count": 4,
   "metadata": {
    "collapsed": false
   },
   "outputs": [],
   "source": [
    "# Preprocessing\n",
    "# ==================================================\n",
    "\n",
    "# Create vocabulary mapping\n",
    "all_sentences = np.append(train_df.Context, train_df.Utterance)\n",
    "vocab_processor = skflow.preprocessing.VocabularyProcessor(MAX_CONTEXT_LENGTH)\n",
    "vocab_processor.fit(all_sentences)\n",
    "\n",
    "# Transform contexts and utterances\n",
    "X_train_context = np.array(list(vocab_processor.transform(train_df.Context)))\n",
    "X_train_utterance = np.array(list(vocab_processor.transform(train_df.Utterance)))\n",
    "\n",
    "# Generate training tensor\n",
    "X_train = np.stack([X_train_context, X_train_utterance], axis=1)\n",
    "y_train = train_df.Label"
   ]
  },
  {
   "cell_type": "code",
   "execution_count": 5,
   "metadata": {
    "collapsed": false
   },
   "outputs": [
    {
     "name": "stdout",
     "output_type": "stream",
     "text": [
      "Total words: 25094\n"
     ]
    }
   ],
   "source": [
    "n_words = len(vocab_processor.vocabulary_)\n",
    "print(\"Total words: {}\".format(n_words))"
   ]
  },
  {
   "cell_type": "code",
   "execution_count": 6,
   "metadata": {
    "collapsed": false
   },
   "outputs": [],
   "source": [
    "# # Load glove vectors\n",
    "# vocab_set = set(vocab_processor.vocabulary_._mapping.keys())\n",
    "# glove_vectors, glove_dict = load_glove_vectors(\"./data/glove.840B.300d.txt\", vocab=vocab_set)"
   ]
  },
  {
   "cell_type": "code",
   "execution_count": 7,
   "metadata": {
    "collapsed": false
   },
   "outputs": [],
   "source": [
    "# Build initial word embeddings\n",
    "initial_embeddings = np.random.randn(n_words, EMBEDDING_SIZE).astype(\"float32\")\n",
    "# for word, glove_word_idx in glove_dict.items():\n",
    "#     word_idx = vocab_processor.vocabulary_.get(word)\n",
    "#     initial_embeddings[word_idx, :] = glove_vectors[glove_word_idx]"
   ]
  },
  {
   "cell_type": "code",
   "execution_count": 8,
   "metadata": {
    "collapsed": true
   },
   "outputs": [],
   "source": [
    "def get_sequence_length(input_tensor, max_length):\n",
    "    \"\"\"\n",
    "    If a sentence is padded, returns the index of the first 0 (the padding symbol).\n",
    "    If the sentence has no padding, returns the max length.\n",
    "    \"\"\"\n",
    "    zero_tensor = np.zeros_like(input_tensor)\n",
    "    comparsion = tf.equal(input_tensor, zero_tensor)\n",
    "    zero_positions = tf.argmax(tf.to_int32(comparsion), 1)\n",
    "    position_mask = tf.to_int64(tf.equal(zero_positions, 0))\n",
    "    sequence_lengths = zero_positions + (position_mask * max_length) + (1 - position_mask) * -1\n",
    "    return sequence_lengths"
   ]
  },
  {
   "cell_type": "code",
   "execution_count": 62,
   "metadata": {
    "collapsed": false
   },
   "outputs": [],
   "source": [
    "def rnn_encoder_model(X, y):\n",
    "    # Split input tensor into separare context and utterance tensor\n",
    "    context, utterance = tf.split(1, 2, X, name='split')\n",
    "    context = tf.squeeze(context, [1])\n",
    "    utterance = tf.squeeze(utterance, [1])\n",
    "    utterance_truncated = tf.slice(utterance, [0,0], [-1,MAX_UTTERANCE_LENGTH])\n",
    "    \n",
    "    # Calculate the sequence length for RNN calculation\n",
    "    context_seq_length = get_sequence_length(context, MAX_CONTEXT_LENGTH)\n",
    "    utterance_seq_length = get_sequence_length(utterance, MAX_UTTERANCE_LENGTH)\n",
    "    \n",
    "    # Embed context and utterance into the same space\n",
    "    with tf.variable_scope(\"shared_embeddings\") as vs, tf.device('/cpu:0'):\n",
    "        embedding_tensor = tf.convert_to_tensor(initial_embeddings)\n",
    "        embeddings = tf.get_variable(\"word_embeddings\",\n",
    "                                     initializer=embedding_tensor)\n",
    "        # Embed the context\n",
    "        word_vectors_context = skflow.ops.embedding_lookup(embeddings, context)\n",
    "        print(word_vectors_context.get_shape())\n",
    "        # word_list_context = skflow.ops.split_squeeze(1, MAX_CONTEXT_LENGTH, word_vectors_context)\n",
    "        # Embed the utterance\n",
    "        word_vectors_utterance = skflow.ops.embedding_lookup(embeddings, utterance_truncated)\n",
    "        # word_list_utterance = skflow.ops.split_squeeze(1, MAX_UTTERANCE_LENGTH, word_vectors_utterance)\n",
    "    \n",
    "    # Run context and utterance through the same RNN\n",
    "    with tf.variable_scope(\"shared_rnn_params\") as vs:\n",
    "        cell = tf.nn.rnn_cell.BasicLSTMCell(LSTM_CELL_SIZE)\n",
    "        context_outputs, context_state = tf.nn.dynamic_rnn(\n",
    "            cell, word_vectors_context, dtype=dtypes.float32, sequence_length=context_seq_length)\n",
    "        encoding_context = tf.slice(context_state, [0, cell.output_size], [-1, -1])\n",
    "        vs.reuse_variables()\n",
    "        utterance_outputs, utterance_state = tf.nn.dynamic_rnn(\n",
    "            cell, word_vectors_utterance, dtype=dtypes.float32, sequence_length=utterance_seq_length)\n",
    "        encoding_utterance = tf.slice(utterance_state, [0, cell.output_size], [-1, -1])\n",
    "\n",
    "    with tf.variable_scope(\"prediction\") as vs:\n",
    "        W = tf.get_variable(\"W\",\n",
    "                            shape=[encoding_context.get_shape()[1], encoding_utterance.get_shape()[1]],\n",
    "                            initializer=tf.random_normal_initializer())\n",
    "        b = tf.get_variable(\"b\", [1])\n",
    "        \n",
    "        # We can interpret this is a \"Generated context\"\n",
    "        generated_context = tf.matmul(encoding_utterance, W)\n",
    "        # Batch multiply contexts and utterances (batch_matmul only works with 3-d tensors)\n",
    "        generated_context = tf.expand_dims(generated_context, 2)\n",
    "        encoding_context = tf.expand_dims(encoding_context, 2)\n",
    "        scores = tf.batch_matmul(generated_context, encoding_context, True) + b\n",
    "        # Go from [15,1,1] to [15,1]: We want a vector of 15 scores\n",
    "        scores = tf.squeeze(scores, [2])\n",
    "        # Convert scores into probabilities\n",
    "        probs = tf.sigmoid(scores)\n",
    "        \n",
    "        # Calculate loss\n",
    "        loss = tf.contrib.losses.logistic(scores, tf.expand_dims(y, 1))\n",
    "        \n",
    "    return [probs, loss]"
   ]
  },
  {
   "cell_type": "code",
   "execution_count": 63,
   "metadata": {
    "collapsed": true
   },
   "outputs": [],
   "source": [
    "# Evaluation\n",
    "def evaluate_recall(y, y_labels, n=1):\n",
    "    num_examples = float(len(y))\n",
    "    num_correct = 0\n",
    "    for predictions, label in zip(y, y_labels):\n",
    "        if label in predictions[:n]:\n",
    "            num_correct += 1\n",
    "    return num_correct/num_examples"
   ]
  },
  {
   "cell_type": "code",
   "execution_count": 64,
   "metadata": {
    "collapsed": true
   },
   "outputs": [],
   "source": [
    "def predict_rnn_batch(contexts, utterances, n=1):\n",
    "    num_contexts = len(contexts)\n",
    "    num_records = np.multiply(*utterances.shape)\n",
    "    input_vectors = []\n",
    "    for context, utterance_list in zip(contexts, utterances):\n",
    "        cvec = np.array(list(vocab_processor.transform([context])))\n",
    "        for u in utterance_list:\n",
    "            uvec = np.array(list(vocab_processor.transform([u])))\n",
    "            stacked = np.stack([cvec, uvec], axis=1)\n",
    "            input_vectors.append(stacked)\n",
    "    batch = np.vstack(input_vectors)\n",
    "    result = classifier.predict_proba(batch)[:,0]\n",
    "    result = np.split(result, num_contexts)\n",
    "    return np.argsort(result, axis=1)[:,::-1]"
   ]
  },
  {
   "cell_type": "code",
   "execution_count": 65,
   "metadata": {
    "collapsed": true
   },
   "outputs": [],
   "source": [
    "def evaluate_rnn_predictor(df):\n",
    "    y_test = np.zeros(len(df))\n",
    "    y = predict_rnn_batch(df.Context, df.iloc[:,1:].values)\n",
    "    for n in [1, 2, 5, 10]:\n",
    "        print(\"Recall @ ({}, 10): {:g}\".format(n, evaluate_recall(y, y_test, n)))"
   ]
  },
  {
   "cell_type": "code",
   "execution_count": 66,
   "metadata": {
    "collapsed": true
   },
   "outputs": [],
   "source": [
    "class ValidationMonitor(tf.contrib.learn.monitors.BaseMonitor):\n",
    "    def __init__(self, print_steps=100, early_stopping_rounds=None, verbose=1, val_steps=1000):\n",
    "        super(ValidationMonitor, self).__init__(\n",
    "            print_steps=print_steps,\n",
    "            early_stopping_rounds=early_stopping_rounds,\n",
    "            verbose=verbose)\n",
    "        self.val_steps = val_steps\n",
    "\n",
    "    def _modify_summary_string(self):\n",
    "        if self.steps % self.val_steps == 0:\n",
    "            evaluate_rnn_predictor(validation_df)"
   ]
  },
  {
   "cell_type": "code",
   "execution_count": 67,
   "metadata": {
    "collapsed": true
   },
   "outputs": [],
   "source": [
    "def training_rate_decay_func(global_step):\n",
    "    return tf.train.exponential_decay(1e-4, global_step, 10000, 0.95, True)"
   ]
  },
  {
   "cell_type": "code",
   "execution_count": 68,
   "metadata": {
    "collapsed": false
   },
   "outputs": [],
   "source": [
    "classifier = tf.contrib.learn.TensorFlowEstimator(\n",
    "    model_fn=rnn_encoder_model,\n",
    "    n_classes=1,\n",
    "    continue_training=True,\n",
    "    learning_rate=training_rate_decay_func,\n",
    "    steps=1000000,\n",
    "    batch_size=16)"
   ]
  },
  {
   "cell_type": "code",
   "execution_count": 69,
   "metadata": {
    "collapsed": true
   },
   "outputs": [],
   "source": [
    "# classifier = tf.contrib.learn.TensorFlowEstimator.restore('./tmp/tf/dual_lstm_chatbot/checkpoints')"
   ]
  },
  {
   "cell_type": "code",
   "execution_count": 70,
   "metadata": {
    "collapsed": false
   },
   "outputs": [
    {
     "name": "stdout",
     "output_type": "stream",
     "text": [
      "(?, 32, 50)\n",
      "Step #99, avg. train loss: 0.83456\n",
      "Step #199, avg. train loss: 0.82526\n",
      "Step #299, avg. train loss: 0.80704\n",
      "Step #399, avg. train loss: 0.83072\n",
      "Step #499, avg. train loss: 0.79679\n",
      "Step #599, avg. train loss: 0.84260\n"
     ]
    },
    {
     "ename": "KeyboardInterrupt",
     "evalue": "",
     "output_type": "error",
     "traceback": [
      "\u001b[0;31m---------------------------------------------------------------------------\u001b[0m",
      "\u001b[0;31mKeyboardInterrupt\u001b[0m                         Traceback (most recent call last)",
      "\u001b[0;32m<ipython-input-70-67e3b9729670>\u001b[0m in \u001b[0;36m<module>\u001b[0;34m()\u001b[0m\n\u001b[1;32m      1\u001b[0m \u001b[0mmonitor\u001b[0m \u001b[0;34m=\u001b[0m \u001b[0mValidationMonitor\u001b[0m\u001b[0;34m(\u001b[0m\u001b[0mprint_steps\u001b[0m\u001b[0;34m=\u001b[0m\u001b[0;36m100\u001b[0m\u001b[0;34m,\u001b[0m \u001b[0mval_steps\u001b[0m\u001b[0;34m=\u001b[0m\u001b[0;36m10000\u001b[0m\u001b[0;34m)\u001b[0m\u001b[0;34m\u001b[0m\u001b[0m\n\u001b[0;32m----> 2\u001b[0;31m \u001b[0mclassifier\u001b[0m\u001b[0;34m.\u001b[0m\u001b[0mfit\u001b[0m\u001b[0;34m(\u001b[0m\u001b[0mX_train\u001b[0m\u001b[0;34m,\u001b[0m \u001b[0my_train\u001b[0m\u001b[0;34m,\u001b[0m \u001b[0mlogdir\u001b[0m\u001b[0;34m=\u001b[0m\u001b[0;34m'./tmp/tf/dual_lstm_chatbot/'\u001b[0m\u001b[0;34m,\u001b[0m \u001b[0mmonitor\u001b[0m\u001b[0;34m=\u001b[0m\u001b[0mmonitor\u001b[0m\u001b[0;34m)\u001b[0m\u001b[0;34m\u001b[0m\u001b[0m\n\u001b[0m",
      "\u001b[0;32m/Users/dennybritz/projects/venvs/tensorflow/lib/python3.5/site-packages/tensorflow/contrib/learn/python/learn/estimators/base.py\u001b[0m in \u001b[0;36mfit\u001b[0;34m(self, X, y, monitor, logdir)\u001b[0m\n\u001b[1;32m    252\u001b[0m             \u001b[0msummary_writer\u001b[0m\u001b[0;34m=\u001b[0m\u001b[0mself\u001b[0m\u001b[0;34m.\u001b[0m\u001b[0m_summary_writer\u001b[0m\u001b[0;34m,\u001b[0m\u001b[0;34m\u001b[0m\u001b[0m\n\u001b[1;32m    253\u001b[0m             \u001b[0msummaries\u001b[0m\u001b[0;34m=\u001b[0m\u001b[0mself\u001b[0m\u001b[0;34m.\u001b[0m\u001b[0m_summaries\u001b[0m\u001b[0;34m,\u001b[0m\u001b[0;34m\u001b[0m\u001b[0m\n\u001b[0;32m--> 254\u001b[0;31m             feed_params_fn=self._data_feeder.get_feed_params)\n\u001b[0m\u001b[1;32m    255\u001b[0m         \u001b[0;32mreturn\u001b[0m \u001b[0mself\u001b[0m\u001b[0;34m\u001b[0m\u001b[0m\n\u001b[1;32m    256\u001b[0m \u001b[0;34m\u001b[0m\u001b[0m\n",
      "\u001b[0;32m/Users/dennybritz/projects/venvs/tensorflow/lib/python3.5/site-packages/tensorflow/contrib/learn/python/learn/trainer.py\u001b[0m in \u001b[0;36mtrain\u001b[0;34m(session, train_op, loss, global_step, feed_dict_fn, steps, monitor, summary_writer, summaries, feed_params_fn)\u001b[0m\n\u001b[1;32m     51\u001b[0m             global_step_value, loss_value, summ, _ = session.run(\n\u001b[1;32m     52\u001b[0m                 \u001b[0;34m[\u001b[0m\u001b[0mglobal_step\u001b[0m\u001b[0;34m,\u001b[0m \u001b[0mloss\u001b[0m\u001b[0;34m,\u001b[0m \u001b[0msummaries\u001b[0m\u001b[0;34m,\u001b[0m \u001b[0mtrain_op\u001b[0m\u001b[0;34m]\u001b[0m\u001b[0;34m,\u001b[0m\u001b[0;34m\u001b[0m\u001b[0m\n\u001b[0;32m---> 53\u001b[0;31m                 feed_dict=feed_dict)\n\u001b[0m\u001b[1;32m     54\u001b[0m         \u001b[0;32melse\u001b[0m\u001b[0;34m:\u001b[0m\u001b[0;34m\u001b[0m\u001b[0m\n\u001b[1;32m     55\u001b[0m             global_step_value, loss_value, _ = session.run(\n",
      "\u001b[0;32m/Users/dennybritz/projects/venvs/tensorflow/lib/python3.5/site-packages/tensorflow/python/client/session.py\u001b[0m in \u001b[0;36mrun\u001b[0;34m(self, fetches, feed_dict, options, run_metadata)\u001b[0m\n\u001b[1;32m    338\u001b[0m     \u001b[0;32mtry\u001b[0m\u001b[0;34m:\u001b[0m\u001b[0;34m\u001b[0m\u001b[0m\n\u001b[1;32m    339\u001b[0m       result = self._run(None, fetches, feed_dict, options_ptr,\n\u001b[0;32m--> 340\u001b[0;31m                          run_metadata_ptr)\n\u001b[0m\u001b[1;32m    341\u001b[0m       \u001b[0;32mif\u001b[0m \u001b[0mrun_metadata\u001b[0m\u001b[0;34m:\u001b[0m\u001b[0;34m\u001b[0m\u001b[0m\n\u001b[1;32m    342\u001b[0m         \u001b[0mproto_data\u001b[0m \u001b[0;34m=\u001b[0m \u001b[0mtf_session\u001b[0m\u001b[0;34m.\u001b[0m\u001b[0mTF_GetBuffer\u001b[0m\u001b[0;34m(\u001b[0m\u001b[0mrun_metadata_ptr\u001b[0m\u001b[0;34m)\u001b[0m\u001b[0;34m\u001b[0m\u001b[0m\n",
      "\u001b[0;32m/Users/dennybritz/projects/venvs/tensorflow/lib/python3.5/site-packages/tensorflow/python/client/session.py\u001b[0m in \u001b[0;36m_run\u001b[0;34m(self, handle, fetches, feed_dict, options, run_metadata)\u001b[0m\n\u001b[1;32m    562\u001b[0m     \u001b[0;32mtry\u001b[0m\u001b[0;34m:\u001b[0m\u001b[0;34m\u001b[0m\u001b[0m\n\u001b[1;32m    563\u001b[0m       results = self._do_run(handle, target_list, unique_fetches,\n\u001b[0;32m--> 564\u001b[0;31m                              feed_dict_string, options, run_metadata)\n\u001b[0m\u001b[1;32m    565\u001b[0m     \u001b[0;32mfinally\u001b[0m\u001b[0;34m:\u001b[0m\u001b[0;34m\u001b[0m\u001b[0m\n\u001b[1;32m    566\u001b[0m       \u001b[0;31m# The movers are no longer used. Delete them.\u001b[0m\u001b[0;34m\u001b[0m\u001b[0;34m\u001b[0m\u001b[0m\n",
      "\u001b[0;32m/Users/dennybritz/projects/venvs/tensorflow/lib/python3.5/site-packages/tensorflow/python/client/session.py\u001b[0m in \u001b[0;36m_do_run\u001b[0;34m(self, handle, target_list, fetch_list, feed_dict, options, run_metadata)\u001b[0m\n\u001b[1;32m    635\u001b[0m     \u001b[0;32mif\u001b[0m \u001b[0mhandle\u001b[0m \u001b[0;32mis\u001b[0m \u001b[0;32mNone\u001b[0m\u001b[0;34m:\u001b[0m\u001b[0;34m\u001b[0m\u001b[0m\n\u001b[1;32m    636\u001b[0m       return self._do_call(_run_fn, self._session, feed_dict, fetch_list,\n\u001b[0;32m--> 637\u001b[0;31m                            target_list, options, run_metadata)\n\u001b[0m\u001b[1;32m    638\u001b[0m     \u001b[0;32melse\u001b[0m\u001b[0;34m:\u001b[0m\u001b[0;34m\u001b[0m\u001b[0m\n\u001b[1;32m    639\u001b[0m       return self._do_call(_prun_fn, self._session, handle, feed_dict,\n",
      "\u001b[0;32m/Users/dennybritz/projects/venvs/tensorflow/lib/python3.5/site-packages/tensorflow/python/client/session.py\u001b[0m in \u001b[0;36m_do_call\u001b[0;34m(self, fn, *args)\u001b[0m\n\u001b[1;32m    642\u001b[0m   \u001b[0;32mdef\u001b[0m \u001b[0m_do_call\u001b[0m\u001b[0;34m(\u001b[0m\u001b[0mself\u001b[0m\u001b[0;34m,\u001b[0m \u001b[0mfn\u001b[0m\u001b[0;34m,\u001b[0m \u001b[0;34m*\u001b[0m\u001b[0margs\u001b[0m\u001b[0;34m)\u001b[0m\u001b[0;34m:\u001b[0m\u001b[0;34m\u001b[0m\u001b[0m\n\u001b[1;32m    643\u001b[0m     \u001b[0;32mtry\u001b[0m\u001b[0;34m:\u001b[0m\u001b[0;34m\u001b[0m\u001b[0m\n\u001b[0;32m--> 644\u001b[0;31m       \u001b[0;32mreturn\u001b[0m \u001b[0mfn\u001b[0m\u001b[0;34m(\u001b[0m\u001b[0;34m*\u001b[0m\u001b[0margs\u001b[0m\u001b[0;34m)\u001b[0m\u001b[0;34m\u001b[0m\u001b[0m\n\u001b[0m\u001b[1;32m    645\u001b[0m     \u001b[0;32mexcept\u001b[0m \u001b[0mtf_session\u001b[0m\u001b[0;34m.\u001b[0m\u001b[0mStatusNotOK\u001b[0m \u001b[0;32mas\u001b[0m \u001b[0me\u001b[0m\u001b[0;34m:\u001b[0m\u001b[0;34m\u001b[0m\u001b[0m\n\u001b[1;32m    646\u001b[0m       \u001b[0merror_message\u001b[0m \u001b[0;34m=\u001b[0m \u001b[0mcompat\u001b[0m\u001b[0;34m.\u001b[0m\u001b[0mas_text\u001b[0m\u001b[0;34m(\u001b[0m\u001b[0me\u001b[0m\u001b[0;34m.\u001b[0m\u001b[0merror_message\u001b[0m\u001b[0;34m)\u001b[0m\u001b[0;34m\u001b[0m\u001b[0m\n",
      "\u001b[0;32m/Users/dennybritz/projects/venvs/tensorflow/lib/python3.5/site-packages/tensorflow/python/client/session.py\u001b[0m in \u001b[0;36m_run_fn\u001b[0;34m(session, feed_dict, fetch_list, target_list, options, run_metadata)\u001b[0m\n\u001b[1;32m    626\u001b[0m       \u001b[0;32melse\u001b[0m\u001b[0;34m:\u001b[0m\u001b[0;34m\u001b[0m\u001b[0m\n\u001b[1;32m    627\u001b[0m         return tf_session.TF_Run(\n\u001b[0;32m--> 628\u001b[0;31m             session, None, feed_dict, fetch_list, target_list, None)\n\u001b[0m\u001b[1;32m    629\u001b[0m \u001b[0;34m\u001b[0m\u001b[0m\n\u001b[1;32m    630\u001b[0m     \u001b[0;32mdef\u001b[0m \u001b[0m_prun_fn\u001b[0m\u001b[0;34m(\u001b[0m\u001b[0msession\u001b[0m\u001b[0;34m,\u001b[0m \u001b[0mhandle\u001b[0m\u001b[0;34m,\u001b[0m \u001b[0mfeed_dict\u001b[0m\u001b[0;34m,\u001b[0m \u001b[0mfetch_list\u001b[0m\u001b[0;34m)\u001b[0m\u001b[0;34m:\u001b[0m\u001b[0;34m\u001b[0m\u001b[0m\n",
      "\u001b[0;31mKeyboardInterrupt\u001b[0m: "
     ]
    }
   ],
   "source": [
    "monitor = ValidationMonitor(print_steps=100, val_steps=10000)\n",
    "classifier.fit(X_train, y_train, logdir='./tmp/tf/dual_lstm_chatbot/', monitor=monitor)"
   ]
  },
  {
   "cell_type": "code",
   "execution_count": null,
   "metadata": {
    "collapsed": true
   },
   "outputs": [],
   "source": []
  }
 ],
 "metadata": {
  "kernelspec": {
   "display_name": "Python 3",
   "language": "python",
   "name": "python3"
  },
  "language_info": {
   "codemirror_mode": {
    "name": "ipython",
    "version": 3
   },
   "file_extension": ".py",
   "mimetype": "text/x-python",
   "name": "python",
   "nbconvert_exporter": "python",
   "pygments_lexer": "ipython3",
   "version": "3.5.0"
  }
 },
 "nbformat": 4,
 "nbformat_minor": 0
}
