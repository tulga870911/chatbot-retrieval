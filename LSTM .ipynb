{
 "cells": [
  {
   "cell_type": "code",
   "execution_count": null,
   "metadata": {
    "collapsed": true
   },
   "outputs": [],
   "source": [
    "import pandas as pd\n",
    "import numpy as np\n",
    "import tensorflow as tf\n",
    "from tensorflow.models.rnn import rnn, rnn_cell\n",
    "from tensorflow.contrib import skflow\n",
    "from tensorflow.python.framework import dtypes"
   ]
  },
  {
   "cell_type": "code",
   "execution_count": 2,
   "metadata": {
    "collapsed": true
   },
   "outputs": [],
   "source": [
    "# The maximum number of words to consider for the contexts\n",
    "MAX_CONTEXT_LENGTH = 80\n",
    "\n",
    "# The maximum number of words to consider for the utterances\n",
    "MAX_UTTERANCE_LENGTH = 30\n",
    "\n",
    "# Word embedding dimensionality\n",
    "EMBEDDING_SIZE = 300\n",
    "\n",
    "# LSTM Cell dimensionality\n",
    "LSTM_CELL_SIZE = 256"
   ]
  },
  {
   "cell_type": "code",
   "execution_count": 3,
   "metadata": {
    "collapsed": false
   },
   "outputs": [],
   "source": [
    "# Load Data\n",
    "train_df = pd.read_csv(\"./data/train_small.csv\")\n",
    "test_df = pd.read_csv(\"./data/test.csv\")\n",
    "validation_df = pd.read_csv(\"./data/valid.csv\")\n",
    "y_test = np.zeros(len(test_df))"
   ]
  },
  {
   "cell_type": "code",
   "execution_count": 4,
   "metadata": {
    "collapsed": false
   },
   "outputs": [],
   "source": [
    "# Preprocessing\n",
    "# ==================================================\n",
    "\n",
    "# Create vocabulary mapping\n",
    "all_sentences = np.append(train_df.Context, train_df.Utterance)\n",
    "vocab_processor = skflow.preprocessing.VocabularyProcessor(MAX_CONTEXT_LENGTH)\n",
    "vocab_processor.fit(all_sentences)\n",
    "\n",
    "# Transform contexts and utterances\n",
    "X_train_context = np.array(list(vocab_processor.transform(train_df.Context)))\n",
    "X_train_utterance = np.array(list(vocab_processor.transform(train_df.Utterance)))\n",
    "\n",
    "# Generate training tensor\n",
    "X_train = np.stack([X_train_context, X_train_utterance], axis=1)\n",
    "y_train = train_df.Label"
   ]
  },
  {
   "cell_type": "code",
   "execution_count": 5,
   "metadata": {
    "collapsed": false
   },
   "outputs": [
    {
     "name": "stdout",
     "output_type": "stream",
     "text": [
      "Total words: 25094\n"
     ]
    }
   ],
   "source": [
    "n_words = len(vocab_processor.vocabulary_)\n",
    "print(\"Total words: {}\".format(n_words))"
   ]
  },
  {
   "cell_type": "code",
   "execution_count": 13,
   "metadata": {
    "collapsed": false
   },
   "outputs": [],
   "source": [
    "def rnn_encoder_model(X, y):\n",
    "    # Split input tensor into separare context and utterance tensor\n",
    "    context, utterance = tf.split(1, 2, X, name='split')\n",
    "    context = tf.squeeze(context, [1])\n",
    "    utterance = tf.squeeze(utterance, [1])\n",
    "    utterance_truncated = tf.slice(utterance, [0,0], [-1,MAX_UTTERANCE_LENGTH])\n",
    "    \n",
    "    # Embed context and utterance into the same space\n",
    "    with tf.variable_scope(\"shared_embeddings\") as vs:\n",
    "        word_vectors_context = skflow.ops.categorical_variable(\n",
    "            context, n_classes=n_words, embedding_size=EMBEDDING_SIZE, name='words')\n",
    "        word_list_context = skflow.ops.split_squeeze(1, MAX_CONTEXT_LENGTH, word_vectors_context)\n",
    "        vs.reuse_variables()\n",
    "        word_vectors_utterance = skflow.ops.categorical_variable(\n",
    "            utterance_truncated, n_classes=n_words, embedding_size=EMBEDDING_SIZE, name='words')\n",
    "        word_list_utterance = skflow.ops.split_squeeze(1, MAX_UTTERANCE_LENGTH, word_vectors_utterance)\n",
    "    \n",
    "    # Run context and utterance through the same RNN\n",
    "    with tf.variable_scope(\"shared_rnn_params\") as vs:\n",
    "        cell = tf.nn.rnn_cell.BasicLSTMCell(LSTM_CELL_SIZE)\n",
    "        _, encoding_context = tf.nn.rnn(cell, word_list_context, dtype=dtypes.float32)\n",
    "        vs.reuse_variables()\n",
    "        _, encoding_utterance = tf.nn.rnn(cell, word_list_utterance, dtype=dtypes.float32)\n",
    "\n",
    "    with tf.variable_scope(\"prediction\") as vs:\n",
    "        W = tf.get_variable(\"W\",\n",
    "                            shape=[encoding_context.get_shape()[1], encoding_utterance.get_shape()[1]],\n",
    "                            initializer=tf.random_normal_initializer())\n",
    "        b = tf.get_variable(\"b\", [1])\n",
    "        \n",
    "        # We can interpret this is a \"Generated context\"\n",
    "        generated_context = tf.matmul(encoding_utterance, W)\n",
    "        # Batch multiply contexts and utterances (batch_matmul only works with 3-d tensors)\n",
    "        generated_context = tf.expand_dims(generated_context, 2)\n",
    "        encoding_context = tf.expand_dims(encoding_context, 2)\n",
    "        scores = tf.batch_matmul(generated_context, encoding_context, True) + b\n",
    "        # Go from [15,1,1] to [15,1]: We want a vector of 15 scores\n",
    "        scores = tf.squeeze(scores, [2])\n",
    "        # Convert scores into probabilities\n",
    "        probs = tf.sigmoid(scores)\n",
    "        \n",
    "        # Calculate loss\n",
    "        loss = tf.contrib.losses.logistic(scores, tf.expand_dims(y, 1))\n",
    "        \n",
    "    return [probs, loss]"
   ]
  },
  {
   "cell_type": "code",
   "execution_count": 14,
   "metadata": {
    "collapsed": true
   },
   "outputs": [],
   "source": [
    "# Evaluation\n",
    "def evaluate_recall(y, y_labels, n=1):\n",
    "    num_examples = float(len(y))\n",
    "    num_correct = 0\n",
    "    for predictions, label in zip(y, y_labels):\n",
    "        if label in predictions[:n]:\n",
    "            num_correct += 1\n",
    "    return num_correct/num_examples"
   ]
  },
  {
   "cell_type": "code",
   "execution_count": 15,
   "metadata": {
    "collapsed": true
   },
   "outputs": [],
   "source": [
    "def predict_rnn_batch(contexts, utterances, n=1):\n",
    "    num_contexts = len(contexts)\n",
    "    num_records = np.multiply(*utterances.shape)\n",
    "    input_vectors = []\n",
    "    for context, utterance_list in zip(contexts, utterances):\n",
    "        cvec = np.array(list(vocab_processor.transform([context])))\n",
    "        for u in utterance_list:\n",
    "            uvec = np.array(list(vocab_processor.transform([u])))\n",
    "            stacked = np.stack([cvec, uvec], axis=1)\n",
    "            input_vectors.append(stacked)\n",
    "    batch = np.vstack(input_vectors)\n",
    "    result = classifier.predict_proba(batch)[:,0]\n",
    "    result = np.split(result, num_contexts)\n",
    "    return np.argsort(result, axis=1)[:,::-1]"
   ]
  },
  {
   "cell_type": "code",
   "execution_count": 16,
   "metadata": {
    "collapsed": true
   },
   "outputs": [],
   "source": [
    "def evaluate_rnn_predictor(df):\n",
    "    y_test = np.zeros(len(df))\n",
    "    y = predict_rnn_batch(df.Context, df.iloc[:,1:].values)\n",
    "    for n in [1, 2, 5, 10]:\n",
    "        print(\"Recall @ ({}, 10): {:g}\".format(n, evaluate_recall(y, y_test, n)))"
   ]
  },
  {
   "cell_type": "code",
   "execution_count": 17,
   "metadata": {
    "collapsed": true
   },
   "outputs": [],
   "source": [
    "classifier = tf.contrib.learn.TensorFlowEstimator(\n",
    "    model_fn=rnn_encoder_model,\n",
    "    n_classes=1,\n",
    "    continue_training=True,\n",
    "    steps=100,\n",
    "    batch_size=256)"
   ]
  },
  {
   "cell_type": "code",
   "execution_count": 18,
   "metadata": {
    "collapsed": true
   },
   "outputs": [],
   "source": [
    "# classifier = tf.contrib.learn.TensorFlowEstimator.restore('./tmp/tf/dual_lstm_chatbot/checkpoints')"
   ]
  },
  {
   "cell_type": "code",
   "execution_count": null,
   "metadata": {
    "collapsed": false
   },
   "outputs": [],
   "source": [
    "while True:\n",
    "    classifier.fit(X_train, y_train, logdir='./tmp/tf/dual_lstm_chatbot/')\n",
    "    classifier.save('./tmp/tf/dual_lstm_chatbot/checkpoints')\n",
    "    evaluate_rnn_predictor(validation_df[:100])"
   ]
  },
  {
   "cell_type": "code",
   "execution_count": null,
   "metadata": {
    "collapsed": true
   },
   "outputs": [],
   "source": []
  }
 ],
 "metadata": {
  "kernelspec": {
   "display_name": "Python 3",
   "language": "python",
   "name": "python3"
  },
  "language_info": {
   "codemirror_mode": {
    "name": "ipython",
    "version": 3
   },
   "file_extension": ".py",
   "mimetype": "text/x-python",
   "name": "python",
   "nbconvert_exporter": "python",
   "pygments_lexer": "ipython3",
   "version": "3.5.0"
  }
 },
 "nbformat": 4,
 "nbformat_minor": 0
}
